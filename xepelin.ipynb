{
 "cells": [
  {
   "cell_type": "markdown",
   "id": "499d6bf7-ba77-45d8-8674-b52049d49eb9",
   "metadata": {},
   "source": [
    "# Challenge técnico Xepelin"
   ]
  },
  {
   "cell_type": "code",
   "execution_count": 1,
   "id": "b1843670-931d-4a8c-851a-8109c21f9711",
   "metadata": {},
   "outputs": [],
   "source": [
    "# Consigna: estamos desarrollando un nuevo producto y tu objetivo es analizar los datos transaccionales disponible y generar un\n",
    "# modelo que permita predecir cuánto dinero se pagará a través de este producto y cuanto se financiará . Crea el modelo que consideres apropiado para estimar el dinero que se moverá en Xepelin\n",
    "# durante junio 2022. "
   ]
  },
  {
   "cell_type": "code",
   "execution_count": 2,
   "id": "28c2b98f-c551-4d9f-be76-90f92780d7c1",
   "metadata": {},
   "outputs": [],
   "source": [
    "import pandas as pd\n",
    "import numpy as np\n",
    "import seaborn as sns\n",
    "import matplotlib.pyplot as plt\n",
    "%matplotlib inline"
   ]
  },
  {
   "cell_type": "code",
   "execution_count": 3,
   "id": "e01e6fd3-d164-42f6-bb4b-4565278ace32",
   "metadata": {},
   "outputs": [],
   "source": [
    "data = pd.read_csv('data_test.csv')"
   ]
  },
  {
   "cell_type": "code",
   "execution_count": 4,
   "id": "a334eeca-9900-4b41-a07c-4b3ad88e2680",
   "metadata": {},
   "outputs": [
    {
     "data": {
      "text/html": [
       "<div>\n",
       "<style scoped>\n",
       "    .dataframe tbody tr th:only-of-type {\n",
       "        vertical-align: middle;\n",
       "    }\n",
       "\n",
       "    .dataframe tbody tr th {\n",
       "        vertical-align: top;\n",
       "    }\n",
       "\n",
       "    .dataframe thead th {\n",
       "        text-align: right;\n",
       "    }\n",
       "</style>\n",
       "<table border=\"1\" class=\"dataframe\">\n",
       "  <thead>\n",
       "    <tr style=\"text-align: right;\">\n",
       "      <th></th>\n",
       "      <th>PayerId</th>\n",
       "      <th>ReceiverId</th>\n",
       "      <th>invoiceId</th>\n",
       "      <th>paidAt</th>\n",
       "      <th>amount</th>\n",
       "      <th>amountfinancedByXepelin</th>\n",
       "      <th>status</th>\n",
       "    </tr>\n",
       "  </thead>\n",
       "  <tbody>\n",
       "    <tr>\n",
       "      <th>0</th>\n",
       "      <td>53</td>\n",
       "      <td>10</td>\n",
       "      <td>18660729</td>\n",
       "      <td>2022-04-23 00:00:00</td>\n",
       "      <td>1490.46</td>\n",
       "      <td>0.00</td>\n",
       "      <td>PAID</td>\n",
       "    </tr>\n",
       "    <tr>\n",
       "      <th>1</th>\n",
       "      <td>93</td>\n",
       "      <td>11</td>\n",
       "      <td>18660730</td>\n",
       "      <td>2021-11-20 00:00:00</td>\n",
       "      <td>6418.28</td>\n",
       "      <td>624.48</td>\n",
       "      <td>PAID</td>\n",
       "    </tr>\n",
       "    <tr>\n",
       "      <th>2</th>\n",
       "      <td>122</td>\n",
       "      <td>12</td>\n",
       "      <td>18660731</td>\n",
       "      <td>2021-10-19 00:00:00</td>\n",
       "      <td>27979.20</td>\n",
       "      <td>10520.15</td>\n",
       "      <td>PAID</td>\n",
       "    </tr>\n",
       "    <tr>\n",
       "      <th>3</th>\n",
       "      <td>85</td>\n",
       "      <td>13</td>\n",
       "      <td>18660732</td>\n",
       "      <td>2021-11-13 00:00:00</td>\n",
       "      <td>183070.77</td>\n",
       "      <td>79421.63</td>\n",
       "      <td>PAID</td>\n",
       "    </tr>\n",
       "    <tr>\n",
       "      <th>4</th>\n",
       "      <td>87</td>\n",
       "      <td>14</td>\n",
       "      <td>18660733</td>\n",
       "      <td>2022-03-23 00:00:00</td>\n",
       "      <td>20532.00</td>\n",
       "      <td>20532.00</td>\n",
       "      <td>PAID</td>\n",
       "    </tr>\n",
       "  </tbody>\n",
       "</table>\n",
       "</div>"
      ],
      "text/plain": [
       "   PayerId  ReceiverId  invoiceId               paidAt     amount  \\\n",
       "0       53          10   18660729  2022-04-23 00:00:00    1490.46   \n",
       "1       93          11   18660730  2021-11-20 00:00:00    6418.28   \n",
       "2      122          12   18660731  2021-10-19 00:00:00   27979.20   \n",
       "3       85          13   18660732  2021-11-13 00:00:00  183070.77   \n",
       "4       87          14   18660733  2022-03-23 00:00:00   20532.00   \n",
       "\n",
       "   amountfinancedByXepelin status  \n",
       "0                     0.00   PAID  \n",
       "1                   624.48   PAID  \n",
       "2                 10520.15   PAID  \n",
       "3                 79421.63   PAID  \n",
       "4                 20532.00   PAID  "
      ]
     },
     "execution_count": 4,
     "metadata": {},
     "output_type": "execute_result"
    }
   ],
   "source": [
    "data.head()"
   ]
  },
  {
   "cell_type": "markdown",
   "id": "8ed9e37f-184b-4298-883e-d90b2e7d1258",
   "metadata": {},
   "source": [
    "## Limpieza de datos"
   ]
  },
  {
   "cell_type": "code",
   "execution_count": 5,
   "id": "cc7c8078-7f85-43c4-a946-0946caf8de0f",
   "metadata": {},
   "outputs": [],
   "source": [
    "data['paidAt'] = pd.to_datetime(data['paidAt']) #separamos la columna datetime en date y time\n",
    "data['date'] = data['paidAt'].dt.strftime('%m-%Y')\n",
    "data['time'] = data['paidAt'].dt.strftime('%H:%M')"
   ]
  },
  {
   "cell_type": "code",
   "execution_count": 6,
   "id": "179259f2-e31f-4d84-a1f3-af8f34643a44",
   "metadata": {},
   "outputs": [
    {
     "data": {
      "text/html": [
       "<div>\n",
       "<style scoped>\n",
       "    .dataframe tbody tr th:only-of-type {\n",
       "        vertical-align: middle;\n",
       "    }\n",
       "\n",
       "    .dataframe tbody tr th {\n",
       "        vertical-align: top;\n",
       "    }\n",
       "\n",
       "    .dataframe thead th {\n",
       "        text-align: right;\n",
       "    }\n",
       "</style>\n",
       "<table border=\"1\" class=\"dataframe\">\n",
       "  <thead>\n",
       "    <tr style=\"text-align: right;\">\n",
       "      <th></th>\n",
       "      <th>PayerId</th>\n",
       "      <th>ReceiverId</th>\n",
       "      <th>invoiceId</th>\n",
       "      <th>paidAt</th>\n",
       "      <th>amount</th>\n",
       "      <th>amountfinancedByXepelin</th>\n",
       "      <th>status</th>\n",
       "      <th>date</th>\n",
       "      <th>time</th>\n",
       "    </tr>\n",
       "  </thead>\n",
       "  <tbody>\n",
       "    <tr>\n",
       "      <th>0</th>\n",
       "      <td>53</td>\n",
       "      <td>10</td>\n",
       "      <td>18660729</td>\n",
       "      <td>2022-04-23</td>\n",
       "      <td>1490.46</td>\n",
       "      <td>0.00</td>\n",
       "      <td>PAID</td>\n",
       "      <td>04-2022</td>\n",
       "      <td>00:00</td>\n",
       "    </tr>\n",
       "    <tr>\n",
       "      <th>1</th>\n",
       "      <td>93</td>\n",
       "      <td>11</td>\n",
       "      <td>18660730</td>\n",
       "      <td>2021-11-20</td>\n",
       "      <td>6418.28</td>\n",
       "      <td>624.48</td>\n",
       "      <td>PAID</td>\n",
       "      <td>11-2021</td>\n",
       "      <td>00:00</td>\n",
       "    </tr>\n",
       "    <tr>\n",
       "      <th>2</th>\n",
       "      <td>122</td>\n",
       "      <td>12</td>\n",
       "      <td>18660731</td>\n",
       "      <td>2021-10-19</td>\n",
       "      <td>27979.20</td>\n",
       "      <td>10520.15</td>\n",
       "      <td>PAID</td>\n",
       "      <td>10-2021</td>\n",
       "      <td>00:00</td>\n",
       "    </tr>\n",
       "    <tr>\n",
       "      <th>3</th>\n",
       "      <td>85</td>\n",
       "      <td>13</td>\n",
       "      <td>18660732</td>\n",
       "      <td>2021-11-13</td>\n",
       "      <td>183070.77</td>\n",
       "      <td>79421.63</td>\n",
       "      <td>PAID</td>\n",
       "      <td>11-2021</td>\n",
       "      <td>00:00</td>\n",
       "    </tr>\n",
       "    <tr>\n",
       "      <th>4</th>\n",
       "      <td>87</td>\n",
       "      <td>14</td>\n",
       "      <td>18660733</td>\n",
       "      <td>2022-03-23</td>\n",
       "      <td>20532.00</td>\n",
       "      <td>20532.00</td>\n",
       "      <td>PAID</td>\n",
       "      <td>03-2022</td>\n",
       "      <td>00:00</td>\n",
       "    </tr>\n",
       "  </tbody>\n",
       "</table>\n",
       "</div>"
      ],
      "text/plain": [
       "   PayerId  ReceiverId  invoiceId     paidAt     amount  \\\n",
       "0       53          10   18660729 2022-04-23    1490.46   \n",
       "1       93          11   18660730 2021-11-20    6418.28   \n",
       "2      122          12   18660731 2021-10-19   27979.20   \n",
       "3       85          13   18660732 2021-11-13  183070.77   \n",
       "4       87          14   18660733 2022-03-23   20532.00   \n",
       "\n",
       "   amountfinancedByXepelin status     date   time  \n",
       "0                     0.00   PAID  04-2022  00:00  \n",
       "1                   624.48   PAID  11-2021  00:00  \n",
       "2                 10520.15   PAID  10-2021  00:00  \n",
       "3                 79421.63   PAID  11-2021  00:00  \n",
       "4                 20532.00   PAID  03-2022  00:00  "
      ]
     },
     "execution_count": 6,
     "metadata": {},
     "output_type": "execute_result"
    }
   ],
   "source": [
    "data.head()"
   ]
  },
  {
   "cell_type": "code",
   "execution_count": 7,
   "id": "56b25bff-b475-4345-808c-e669aa90021a",
   "metadata": {},
   "outputs": [
    {
     "data": {
      "text/plain": [
       "False    892\n",
       "True     308\n",
       "Name: date, dtype: int64"
      ]
     },
     "execution_count": 7,
     "metadata": {},
     "output_type": "execute_result"
    }
   ],
   "source": [
    "data['date'].isna().value_counts()"
   ]
  },
  {
   "cell_type": "code",
   "execution_count": 8,
   "id": "63b55580-100f-47f5-a40d-059f8504bb5c",
   "metadata": {},
   "outputs": [
    {
     "data": {
      "text/plain": [
       "00:00    840\n",
       "16:13      3\n",
       "15:57      3\n",
       "13:56      2\n",
       "20:08      2\n",
       "02:16      2\n",
       "22:47      1\n",
       "22:50      1\n",
       "15:15      1\n",
       "15:19      1\n",
       "16:06      1\n",
       "18:31      1\n",
       "23:03      1\n",
       "21:34      1\n",
       "21:51      1\n",
       "23:04      1\n",
       "22:37      1\n",
       "16:05      1\n",
       "15:21      1\n",
       "20:14      1\n",
       "22:57      1\n",
       "20:49      1\n",
       "21:02      1\n",
       "14:19      1\n",
       "16:54      1\n",
       "15:56      1\n",
       "15:31      1\n",
       "16:28      1\n",
       "14:13      1\n",
       "00:15      1\n",
       "20:19      1\n",
       "20:34      1\n",
       "22:03      1\n",
       "14:47      1\n",
       "18:27      1\n",
       "23:27      1\n",
       "18:03      1\n",
       "17:07      1\n",
       "17:08      1\n",
       "18:05      1\n",
       "14:23      1\n",
       "15:53      1\n",
       "18:42      1\n",
       "18:09      1\n",
       "18:41      1\n",
       "18:29      1\n",
       "Name: time, dtype: int64"
      ]
     },
     "execution_count": 8,
     "metadata": {},
     "output_type": "execute_result"
    }
   ],
   "source": [
    "data['time'].value_counts() #vemos que el 70 porciento de nuestro horario es 00:00:00 por ende no vamos a utilizar esta columna en nuestro modelo"
   ]
  },
  {
   "cell_type": "code",
   "execution_count": 9,
   "id": "9dd1157b-b1d3-4590-9eae-1349969c03af",
   "metadata": {},
   "outputs": [
    {
     "data": {
      "text/plain": [
       "False    892\n",
       "True     308\n",
       "Name: time, dtype: int64"
      ]
     },
     "execution_count": 9,
     "metadata": {},
     "output_type": "execute_result"
    }
   ],
   "source": [
    "data['time'].isna().value_counts() #vemos que la columna de time tiene en muchos datos en nan pero como no la utilizaremos no los vamos a reemplazar"
   ]
  },
  {
   "cell_type": "markdown",
   "id": "102b9e77-7701-4c8d-a350-c954d9b64fd0",
   "metadata": {},
   "source": [
    "## EDA"
   ]
  },
  {
   "cell_type": "code",
   "execution_count": 10,
   "id": "acfb3c71-b193-40e4-b809-3373c0f0ecde",
   "metadata": {},
   "outputs": [],
   "source": [
    "data['porcentaje'] = (data['amountfinancedByXepelin']) *100 / data['amount'].round(0)\n",
    "#creamos la columna de porcentaje para conocer cuanto porcentaje del amount es financiado por xepelin y graficar variables"
   ]
  },
  {
   "cell_type": "code",
   "execution_count": 11,
   "id": "158fe7cd-18a6-4902-8f7b-a0eaaafe82ac",
   "metadata": {},
   "outputs": [
    {
     "data": {
      "text/html": [
       "<div>\n",
       "<style scoped>\n",
       "    .dataframe tbody tr th:only-of-type {\n",
       "        vertical-align: middle;\n",
       "    }\n",
       "\n",
       "    .dataframe tbody tr th {\n",
       "        vertical-align: top;\n",
       "    }\n",
       "\n",
       "    .dataframe thead th {\n",
       "        text-align: right;\n",
       "    }\n",
       "</style>\n",
       "<table border=\"1\" class=\"dataframe\">\n",
       "  <thead>\n",
       "    <tr style=\"text-align: right;\">\n",
       "      <th></th>\n",
       "      <th>PayerId</th>\n",
       "      <th>ReceiverId</th>\n",
       "      <th>invoiceId</th>\n",
       "      <th>paidAt</th>\n",
       "      <th>amount</th>\n",
       "      <th>amountfinancedByXepelin</th>\n",
       "      <th>status</th>\n",
       "      <th>date</th>\n",
       "      <th>time</th>\n",
       "      <th>porcentaje</th>\n",
       "    </tr>\n",
       "  </thead>\n",
       "  <tbody>\n",
       "    <tr>\n",
       "      <th>0</th>\n",
       "      <td>53</td>\n",
       "      <td>10</td>\n",
       "      <td>18660729</td>\n",
       "      <td>2022-04-23</td>\n",
       "      <td>1490.46</td>\n",
       "      <td>0.00</td>\n",
       "      <td>PAID</td>\n",
       "      <td>04-2022</td>\n",
       "      <td>00:00</td>\n",
       "      <td>0.000000</td>\n",
       "    </tr>\n",
       "    <tr>\n",
       "      <th>1</th>\n",
       "      <td>93</td>\n",
       "      <td>11</td>\n",
       "      <td>18660730</td>\n",
       "      <td>2021-11-20</td>\n",
       "      <td>6418.28</td>\n",
       "      <td>624.48</td>\n",
       "      <td>PAID</td>\n",
       "      <td>11-2021</td>\n",
       "      <td>00:00</td>\n",
       "      <td>9.730134</td>\n",
       "    </tr>\n",
       "    <tr>\n",
       "      <th>2</th>\n",
       "      <td>122</td>\n",
       "      <td>12</td>\n",
       "      <td>18660731</td>\n",
       "      <td>2021-10-19</td>\n",
       "      <td>27979.20</td>\n",
       "      <td>10520.15</td>\n",
       "      <td>PAID</td>\n",
       "      <td>10-2021</td>\n",
       "      <td>00:00</td>\n",
       "      <td>37.600164</td>\n",
       "    </tr>\n",
       "    <tr>\n",
       "      <th>3</th>\n",
       "      <td>85</td>\n",
       "      <td>13</td>\n",
       "      <td>18660732</td>\n",
       "      <td>2021-11-13</td>\n",
       "      <td>183070.77</td>\n",
       "      <td>79421.63</td>\n",
       "      <td>PAID</td>\n",
       "      <td>11-2021</td>\n",
       "      <td>00:00</td>\n",
       "      <td>43.382966</td>\n",
       "    </tr>\n",
       "    <tr>\n",
       "      <th>4</th>\n",
       "      <td>87</td>\n",
       "      <td>14</td>\n",
       "      <td>18660733</td>\n",
       "      <td>2022-03-23</td>\n",
       "      <td>20532.00</td>\n",
       "      <td>20532.00</td>\n",
       "      <td>PAID</td>\n",
       "      <td>03-2022</td>\n",
       "      <td>00:00</td>\n",
       "      <td>100.000000</td>\n",
       "    </tr>\n",
       "  </tbody>\n",
       "</table>\n",
       "</div>"
      ],
      "text/plain": [
       "   PayerId  ReceiverId  invoiceId     paidAt     amount  \\\n",
       "0       53          10   18660729 2022-04-23    1490.46   \n",
       "1       93          11   18660730 2021-11-20    6418.28   \n",
       "2      122          12   18660731 2021-10-19   27979.20   \n",
       "3       85          13   18660732 2021-11-13  183070.77   \n",
       "4       87          14   18660733 2022-03-23   20532.00   \n",
       "\n",
       "   amountfinancedByXepelin status     date   time  porcentaje  \n",
       "0                     0.00   PAID  04-2022  00:00    0.000000  \n",
       "1                   624.48   PAID  11-2021  00:00    9.730134  \n",
       "2                 10520.15   PAID  10-2021  00:00   37.600164  \n",
       "3                 79421.63   PAID  11-2021  00:00   43.382966  \n",
       "4                 20532.00   PAID  03-2022  00:00  100.000000  "
      ]
     },
     "execution_count": 11,
     "metadata": {},
     "output_type": "execute_result"
    }
   ],
   "source": [
    "data.head()"
   ]
  },
  {
   "cell_type": "code",
   "execution_count": 12,
   "id": "afc46ec3-47c4-46be-96a4-392b695d3be2",
   "metadata": {},
   "outputs": [
    {
     "data": {
      "text/plain": [
       "dtype('float64')"
      ]
     },
     "execution_count": 12,
     "metadata": {},
     "output_type": "execute_result"
    }
   ],
   "source": [
    "data['porcentaje'].dtype"
   ]
  },
  {
   "cell_type": "code",
   "execution_count": 13,
   "id": "f97706ad-96c2-431c-8a1e-c2a47c25f699",
   "metadata": {},
   "outputs": [],
   "source": [
    "## Graficos "
   ]
  },
  {
   "cell_type": "code",
   "execution_count": 14,
   "id": "33feefa1-c236-4cf4-8ac2-cc9afb05f6b6",
   "metadata": {},
   "outputs": [
    {
     "data": {
      "image/png": "[encoded data removed]",
      "text/plain": [
       "<Figure size 1440x576 with 1 Axes>"
      ]
     },
     "metadata": {
      "needs_background": "light"
     },
     "output_type": "display_data"
    }
   ],
   "source": [
    "fig, ax = plt.subplots(figsize=(20, 8))\n",
    "chart = sns.barplot(x=\"status\",\n",
    "            y=\"porcentaje\",\n",
    "            data= data,palette=\"winter\", ax=ax)\n",
    "chart.set_title('Porcentaje de financiacion de xepelin en nuevo producto por status de pago')\n",
    "chart.set_xticklabels(chart.get_xticklabels(), rotation=30)\n",
    "# annotation here\n",
    "for p in chart.patches:\n",
    "             chart.annotate(\"%.0f\" % p.get_height(), (p.get_x() + p.get_width() / 2., p.get_height()),\n",
    "                 ha='center', va='center', fontsize=13, color='black', xytext=(0, 5),\n",
    "                 textcoords='offset points')\n",
    "plt.axhline(data['porcentaje'].median(),color='b')\n",
    "plt.show()"
   ]
  },
  {
   "cell_type": "code",
   "execution_count": 15,
   "id": "1a2faacf-1c2a-4c92-86f3-92b2fd4aac0a",
   "metadata": {},
   "outputs": [],
   "source": [
    "paid = data.loc[data['status'] == 'PAID'] "
   ]
  },
  {
   "cell_type": "code",
   "execution_count": 16,
   "id": "bcdc783e-99ac-49f0-9d3c-1cfd938eb1ea",
   "metadata": {},
   "outputs": [
    {
     "data": {
      "text/plain": [
       "0.0"
      ]
     },
     "execution_count": 16,
     "metadata": {},
     "output_type": "execute_result"
    }
   ],
   "source": [
    "paid['porcentaje'].median()"
   ]
  },
  {
   "cell_type": "code",
   "execution_count": 17,
   "id": "ab5314eb-942d-4d2c-8bb3-a1b131af6ce2",
   "metadata": {},
   "outputs": [
    {
     "data": {
      "text/plain": [
       "33.48255021085648"
      ]
     },
     "execution_count": 17,
     "metadata": {},
     "output_type": "execute_result"
    }
   ],
   "source": [
    "paid['porcentaje'].std()"
   ]
  },
  {
   "cell_type": "code",
   "execution_count": 18,
   "id": "d41905c5-51e0-410a-9c07-a403f8e5516e",
   "metadata": {},
   "outputs": [],
   "source": [
    "processing = data.loc[data['status'] == 'PROCESSING'] "
   ]
  },
  {
   "cell_type": "code",
   "execution_count": 19,
   "id": "176e934e-c3dd-4f6c-a344-c97c8481ff73",
   "metadata": {},
   "outputs": [
    {
     "data": {
      "text/plain": [
       "0.0"
      ]
     },
     "execution_count": 19,
     "metadata": {},
     "output_type": "execute_result"
    }
   ],
   "source": [
    "processing['porcentaje'].median()"
   ]
  },
  {
   "cell_type": "code",
   "execution_count": 20,
   "id": "026f6820-ea2c-4236-8c5f-ab91eb419955",
   "metadata": {},
   "outputs": [
    {
     "data": {
      "text/plain": [
       "31.875336909824"
      ]
     },
     "execution_count": 20,
     "metadata": {},
     "output_type": "execute_result"
    }
   ],
   "source": [
    "processing['porcentaje'].std()"
   ]
  },
  {
   "cell_type": "code",
   "execution_count": 21,
   "id": "4c29145a-76f5-4fe9-a54f-85e7804b8566",
   "metadata": {},
   "outputs": [],
   "source": [
    "paid = data.loc[data['status'] == 'PAID'] "
   ]
  },
  {
   "cell_type": "code",
   "execution_count": 22,
   "id": "e76e02c3-94ec-4f9e-be1b-156369b72d39",
   "metadata": {},
   "outputs": [
    {
     "data": {
      "text/plain": [
       "0.0"
      ]
     },
     "execution_count": 22,
     "metadata": {},
     "output_type": "execute_result"
    }
   ],
   "source": [
    "paid['porcentaje'].median()"
   ]
  },
  {
   "cell_type": "code",
   "execution_count": 23,
   "id": "a0cb9f66-4da9-416c-a4a8-0811bda5c361",
   "metadata": {},
   "outputs": [
    {
     "data": {
      "text/plain": [
       "33.48255021085648"
      ]
     },
     "execution_count": 23,
     "metadata": {},
     "output_type": "execute_result"
    }
   ],
   "source": [
    "paid['porcentaje'].std()"
   ]
  },
  {
   "cell_type": "code",
   "execution_count": 24,
   "id": "7abe70a9-d160-462e-9301-31e84567bcc7",
   "metadata": {},
   "outputs": [],
   "source": [
    "# Aca vemos que el porcentaje mas alto de financiacion permanece en status failed. \n",
    "#Esto nos hace preguntarnos que significa este status?que se # ingreso el pago y no se realizo la transaccion? \n",
    "#sera un tema de nuestra plataforma a revisar? temas a discutir. de todas maneras la media es 0 \n",
    "# y la desviacion standar es alta, por lo tanto contamos con valores muy altos de porcentajes que alzan la media en todos los status."
   ]
  },
  {
   "cell_type": "code",
   "execution_count": 25,
   "id": "1b57c6ac-75f4-46f9-8917-e351bc469acb",
   "metadata": {},
   "outputs": [
    {
     "data": {
      "text/plain": [
       "0.000000      914\n",
       "100.000000     26\n",
       "100.001845      6\n",
       "100.000168      4\n",
       "100.000608      3\n",
       "             ... \n",
       "100.000292      1\n",
       "99.999643       1\n",
       "30.853223       1\n",
       "0.563283        1\n",
       "99.999939       1\n",
       "Name: porcentaje, Length: 243, dtype: int64"
      ]
     },
     "execution_count": 25,
     "metadata": {},
     "output_type": "execute_result"
    }
   ],
   "source": [
    "data['porcentaje'].value_counts()"
   ]
  },
  {
   "cell_type": "code",
   "execution_count": 26,
   "id": "b08e968d-20d5-4176-81ca-6e1c7849976d",
   "metadata": {},
   "outputs": [],
   "source": [
    "full = data.loc[data['porcentaje'] == 100.000000]"
   ]
  },
  {
   "cell_type": "code",
   "execution_count": 27,
   "id": "27c4a147-a0e1-49e7-8872-6ab404ac42db",
   "metadata": {},
   "outputs": [
    {
     "data": {
      "text/html": [
       "<div>\n",
       "<style scoped>\n",
       "    .dataframe tbody tr th:only-of-type {\n",
       "        vertical-align: middle;\n",
       "    }\n",
       "\n",
       "    .dataframe tbody tr th {\n",
       "        vertical-align: top;\n",
       "    }\n",
       "\n",
       "    .dataframe thead th {\n",
       "        text-align: right;\n",
       "    }\n",
       "</style>\n",
       "<table border=\"1\" class=\"dataframe\">\n",
       "  <thead>\n",
       "    <tr style=\"text-align: right;\">\n",
       "      <th></th>\n",
       "      <th>PayerId</th>\n",
       "      <th>ReceiverId</th>\n",
       "      <th>invoiceId</th>\n",
       "      <th>paidAt</th>\n",
       "      <th>amount</th>\n",
       "      <th>amountfinancedByXepelin</th>\n",
       "      <th>status</th>\n",
       "      <th>date</th>\n",
       "      <th>time</th>\n",
       "      <th>porcentaje</th>\n",
       "    </tr>\n",
       "  </thead>\n",
       "  <tbody>\n",
       "    <tr>\n",
       "      <th>4</th>\n",
       "      <td>87</td>\n",
       "      <td>14</td>\n",
       "      <td>18660733</td>\n",
       "      <td>2022-03-23 00:00:00</td>\n",
       "      <td>20532.0</td>\n",
       "      <td>20532.0</td>\n",
       "      <td>PAID</td>\n",
       "      <td>03-2022</td>\n",
       "      <td>00:00</td>\n",
       "      <td>100.0</td>\n",
       "    </tr>\n",
       "    <tr>\n",
       "      <th>24</th>\n",
       "      <td>55</td>\n",
       "      <td>65</td>\n",
       "      <td>18660753</td>\n",
       "      <td>2022-01-10 00:00:00</td>\n",
       "      <td>6380.0</td>\n",
       "      <td>6380.0</td>\n",
       "      <td>PAID</td>\n",
       "      <td>01-2022</td>\n",
       "      <td>00:00</td>\n",
       "      <td>100.0</td>\n",
       "    </tr>\n",
       "    <tr>\n",
       "      <th>27</th>\n",
       "      <td>21</td>\n",
       "      <td>71</td>\n",
       "      <td>18660756</td>\n",
       "      <td>2022-01-10 00:00:00</td>\n",
       "      <td>6000.0</td>\n",
       "      <td>6000.0</td>\n",
       "      <td>PAID</td>\n",
       "      <td>01-2022</td>\n",
       "      <td>00:00</td>\n",
       "      <td>100.0</td>\n",
       "    </tr>\n",
       "    <tr>\n",
       "      <th>49</th>\n",
       "      <td>145</td>\n",
       "      <td>89</td>\n",
       "      <td>18660778</td>\n",
       "      <td>2021-11-14 00:00:00</td>\n",
       "      <td>6380.0</td>\n",
       "      <td>6380.0</td>\n",
       "      <td>PAID</td>\n",
       "      <td>11-2021</td>\n",
       "      <td>00:00</td>\n",
       "      <td>100.0</td>\n",
       "    </tr>\n",
       "    <tr>\n",
       "      <th>56</th>\n",
       "      <td>170</td>\n",
       "      <td>42</td>\n",
       "      <td>18660785</td>\n",
       "      <td>2022-01-19 00:00:00</td>\n",
       "      <td>3161.0</td>\n",
       "      <td>3161.0</td>\n",
       "      <td>PAID</td>\n",
       "      <td>01-2022</td>\n",
       "      <td>00:00</td>\n",
       "      <td>100.0</td>\n",
       "    </tr>\n",
       "    <tr>\n",
       "      <th>145</th>\n",
       "      <td>104</td>\n",
       "      <td>14</td>\n",
       "      <td>18660874</td>\n",
       "      <td>2022-03-13 00:00:00</td>\n",
       "      <td>284548.0</td>\n",
       "      <td>284548.0</td>\n",
       "      <td>PAID</td>\n",
       "      <td>03-2022</td>\n",
       "      <td>00:00</td>\n",
       "      <td>100.0</td>\n",
       "    </tr>\n",
       "    <tr>\n",
       "      <th>216</th>\n",
       "      <td>67</td>\n",
       "      <td>38</td>\n",
       "      <td>18660945</td>\n",
       "      <td>2022-04-23 00:00:00</td>\n",
       "      <td>158108.0</td>\n",
       "      <td>158108.0</td>\n",
       "      <td>PAID</td>\n",
       "      <td>04-2022</td>\n",
       "      <td>00:00</td>\n",
       "      <td>100.0</td>\n",
       "    </tr>\n",
       "    <tr>\n",
       "      <th>229</th>\n",
       "      <td>103</td>\n",
       "      <td>14</td>\n",
       "      <td>18660958</td>\n",
       "      <td>2022-04-23 00:00:00</td>\n",
       "      <td>15660.0</td>\n",
       "      <td>15660.0</td>\n",
       "      <td>PAID</td>\n",
       "      <td>04-2022</td>\n",
       "      <td>00:00</td>\n",
       "      <td>100.0</td>\n",
       "    </tr>\n",
       "    <tr>\n",
       "      <th>275</th>\n",
       "      <td>135</td>\n",
       "      <td>83</td>\n",
       "      <td>18661004</td>\n",
       "      <td>2022-02-05 00:00:00</td>\n",
       "      <td>8120.0</td>\n",
       "      <td>8120.0</td>\n",
       "      <td>PAID</td>\n",
       "      <td>02-2022</td>\n",
       "      <td>00:00</td>\n",
       "      <td>100.0</td>\n",
       "    </tr>\n",
       "    <tr>\n",
       "      <th>299</th>\n",
       "      <td>193</td>\n",
       "      <td>133</td>\n",
       "      <td>18661028</td>\n",
       "      <td>2022-02-05 00:00:00</td>\n",
       "      <td>7018.0</td>\n",
       "      <td>7018.0</td>\n",
       "      <td>PAID</td>\n",
       "      <td>02-2022</td>\n",
       "      <td>00:00</td>\n",
       "      <td>100.0</td>\n",
       "    </tr>\n",
       "    <tr>\n",
       "      <th>320</th>\n",
       "      <td>44</td>\n",
       "      <td>14</td>\n",
       "      <td>18661049</td>\n",
       "      <td>2022-02-05 00:00:00</td>\n",
       "      <td>100224.0</td>\n",
       "      <td>100224.0</td>\n",
       "      <td>PAID</td>\n",
       "      <td>02-2022</td>\n",
       "      <td>00:00</td>\n",
       "      <td>100.0</td>\n",
       "    </tr>\n",
       "    <tr>\n",
       "      <th>336</th>\n",
       "      <td>75</td>\n",
       "      <td>14</td>\n",
       "      <td>18661065</td>\n",
       "      <td>2022-02-27 00:00:00</td>\n",
       "      <td>7018.0</td>\n",
       "      <td>7018.0</td>\n",
       "      <td>PAID</td>\n",
       "      <td>02-2022</td>\n",
       "      <td>00:00</td>\n",
       "      <td>100.0</td>\n",
       "    </tr>\n",
       "    <tr>\n",
       "      <th>344</th>\n",
       "      <td>141</td>\n",
       "      <td>14</td>\n",
       "      <td>18661073</td>\n",
       "      <td>2022-03-19 00:00:00</td>\n",
       "      <td>7018.0</td>\n",
       "      <td>7018.0</td>\n",
       "      <td>PAID</td>\n",
       "      <td>03-2022</td>\n",
       "      <td>00:00</td>\n",
       "      <td>100.0</td>\n",
       "    </tr>\n",
       "    <tr>\n",
       "      <th>393</th>\n",
       "      <td>28</td>\n",
       "      <td>125</td>\n",
       "      <td>18661122</td>\n",
       "      <td>2022-04-12 00:00:00</td>\n",
       "      <td>70000.0</td>\n",
       "      <td>70000.0</td>\n",
       "      <td>PAID</td>\n",
       "      <td>04-2022</td>\n",
       "      <td>00:00</td>\n",
       "      <td>100.0</td>\n",
       "    </tr>\n",
       "    <tr>\n",
       "      <th>490</th>\n",
       "      <td>150</td>\n",
       "      <td>98</td>\n",
       "      <td>18661219</td>\n",
       "      <td>2022-01-05 16:05:00</td>\n",
       "      <td>8236.0</td>\n",
       "      <td>8236.0</td>\n",
       "      <td>PAID</td>\n",
       "      <td>01-2022</td>\n",
       "      <td>16:05</td>\n",
       "      <td>100.0</td>\n",
       "    </tr>\n",
       "    <tr>\n",
       "      <th>613</th>\n",
       "      <td>173</td>\n",
       "      <td>35</td>\n",
       "      <td>18661342</td>\n",
       "      <td>2022-04-10 00:00:00</td>\n",
       "      <td>5220.0</td>\n",
       "      <td>5220.0</td>\n",
       "      <td>PAID</td>\n",
       "      <td>04-2022</td>\n",
       "      <td>00:00</td>\n",
       "      <td>100.0</td>\n",
       "    </tr>\n",
       "    <tr>\n",
       "      <th>819</th>\n",
       "      <td>123</td>\n",
       "      <td>46</td>\n",
       "      <td>18661548</td>\n",
       "      <td>NaT</td>\n",
       "      <td>16646.0</td>\n",
       "      <td>16646.0</td>\n",
       "      <td>PROCESSING</td>\n",
       "      <td>NaN</td>\n",
       "      <td>NaN</td>\n",
       "      <td>100.0</td>\n",
       "    </tr>\n",
       "    <tr>\n",
       "      <th>821</th>\n",
       "      <td>146</td>\n",
       "      <td>58</td>\n",
       "      <td>18661550</td>\n",
       "      <td>NaT</td>\n",
       "      <td>23548.0</td>\n",
       "      <td>23548.0</td>\n",
       "      <td>PROCESSING</td>\n",
       "      <td>NaN</td>\n",
       "      <td>NaN</td>\n",
       "      <td>100.0</td>\n",
       "    </tr>\n",
       "    <tr>\n",
       "      <th>948</th>\n",
       "      <td>156</td>\n",
       "      <td>14</td>\n",
       "      <td>18661677</td>\n",
       "      <td>2022-03-30 00:00:00</td>\n",
       "      <td>2378.0</td>\n",
       "      <td>2378.0</td>\n",
       "      <td>PAID</td>\n",
       "      <td>03-2022</td>\n",
       "      <td>00:00</td>\n",
       "      <td>100.0</td>\n",
       "    </tr>\n",
       "    <tr>\n",
       "      <th>997</th>\n",
       "      <td>128</td>\n",
       "      <td>16</td>\n",
       "      <td>18661726</td>\n",
       "      <td>NaT</td>\n",
       "      <td>60000.0</td>\n",
       "      <td>60000.0</td>\n",
       "      <td>PROCESSING</td>\n",
       "      <td>NaN</td>\n",
       "      <td>NaN</td>\n",
       "      <td>100.0</td>\n",
       "    </tr>\n",
       "    <tr>\n",
       "      <th>1089</th>\n",
       "      <td>76</td>\n",
       "      <td>21</td>\n",
       "      <td>18661818</td>\n",
       "      <td>NaT</td>\n",
       "      <td>3000.0</td>\n",
       "      <td>3000.0</td>\n",
       "      <td>PROCESSING</td>\n",
       "      <td>NaN</td>\n",
       "      <td>NaN</td>\n",
       "      <td>100.0</td>\n",
       "    </tr>\n",
       "    <tr>\n",
       "      <th>1092</th>\n",
       "      <td>39</td>\n",
       "      <td>58</td>\n",
       "      <td>18661821</td>\n",
       "      <td>NaT</td>\n",
       "      <td>4000.0</td>\n",
       "      <td>4000.0</td>\n",
       "      <td>PROCESSING</td>\n",
       "      <td>NaN</td>\n",
       "      <td>NaN</td>\n",
       "      <td>100.0</td>\n",
       "    </tr>\n",
       "    <tr>\n",
       "      <th>1098</th>\n",
       "      <td>124</td>\n",
       "      <td>129</td>\n",
       "      <td>18661827</td>\n",
       "      <td>2022-03-06 00:00:00</td>\n",
       "      <td>1500.0</td>\n",
       "      <td>1500.0</td>\n",
       "      <td>PAID</td>\n",
       "      <td>03-2022</td>\n",
       "      <td>00:00</td>\n",
       "      <td>100.0</td>\n",
       "    </tr>\n",
       "    <tr>\n",
       "      <th>1099</th>\n",
       "      <td>155</td>\n",
       "      <td>133</td>\n",
       "      <td>18661828</td>\n",
       "      <td>2022-03-06 00:00:00</td>\n",
       "      <td>2200.0</td>\n",
       "      <td>2200.0</td>\n",
       "      <td>PAID</td>\n",
       "      <td>03-2022</td>\n",
       "      <td>00:00</td>\n",
       "      <td>100.0</td>\n",
       "    </tr>\n",
       "    <tr>\n",
       "      <th>1116</th>\n",
       "      <td>110</td>\n",
       "      <td>16</td>\n",
       "      <td>18661845</td>\n",
       "      <td>2022-02-16 00:00:00</td>\n",
       "      <td>116261.0</td>\n",
       "      <td>116261.0</td>\n",
       "      <td>PAID</td>\n",
       "      <td>02-2022</td>\n",
       "      <td>00:00</td>\n",
       "      <td>100.0</td>\n",
       "    </tr>\n",
       "    <tr>\n",
       "      <th>1187</th>\n",
       "      <td>157</td>\n",
       "      <td>55</td>\n",
       "      <td>18661916</td>\n",
       "      <td>NaT</td>\n",
       "      <td>17168.0</td>\n",
       "      <td>17168.0</td>\n",
       "      <td>FAILED</td>\n",
       "      <td>NaN</td>\n",
       "      <td>NaN</td>\n",
       "      <td>100.0</td>\n",
       "    </tr>\n",
       "  </tbody>\n",
       "</table>\n",
       "</div>"
      ],
      "text/plain": [
       "      PayerId  ReceiverId  invoiceId              paidAt    amount  \\\n",
       "4          87          14   18660733 2022-03-23 00:00:00   20532.0   \n",
       "24         55          65   18660753 2022-01-10 00:00:00    6380.0   \n",
       "27         21          71   18660756 2022-01-10 00:00:00    6000.0   \n",
       "49        145          89   18660778 2021-11-14 00:00:00    6380.0   \n",
       "56        170          42   18660785 2022-01-19 00:00:00    3161.0   \n",
       "145       104          14   18660874 2022-03-13 00:00:00  284548.0   \n",
       "216        67          38   18660945 2022-04-23 00:00:00  158108.0   \n",
       "229       103          14   18660958 2022-04-23 00:00:00   15660.0   \n",
       "275       135          83   18661004 2022-02-05 00:00:00    8120.0   \n",
       "299       193         133   18661028 2022-02-05 00:00:00    7018.0   \n",
       "320        44          14   18661049 2022-02-05 00:00:00  100224.0   \n",
       "336        75          14   18661065 2022-02-27 00:00:00    7018.0   \n",
       "344       141          14   18661073 2022-03-19 00:00:00    7018.0   \n",
       "393        28         125   18661122 2022-04-12 00:00:00   70000.0   \n",
       "490       150          98   18661219 2022-01-05 16:05:00    8236.0   \n",
       "613       173          35   18661342 2022-04-10 00:00:00    5220.0   \n",
       "819       123          46   18661548                 NaT   16646.0   \n",
       "821       146          58   18661550                 NaT   23548.0   \n",
       "948       156          14   18661677 2022-03-30 00:00:00    2378.0   \n",
       "997       128          16   18661726                 NaT   60000.0   \n",
       "1089       76          21   18661818                 NaT    3000.0   \n",
       "1092       39          58   18661821                 NaT    4000.0   \n",
       "1098      124         129   18661827 2022-03-06 00:00:00    1500.0   \n",
       "1099      155         133   18661828 2022-03-06 00:00:00    2200.0   \n",
       "1116      110          16   18661845 2022-02-16 00:00:00  116261.0   \n",
       "1187      157          55   18661916                 NaT   17168.0   \n",
       "\n",
       "      amountfinancedByXepelin      status     date   time  porcentaje  \n",
       "4                     20532.0        PAID  03-2022  00:00       100.0  \n",
       "24                     6380.0        PAID  01-2022  00:00       100.0  \n",
       "27                     6000.0        PAID  01-2022  00:00       100.0  \n",
       "49                     6380.0        PAID  11-2021  00:00       100.0  \n",
       "56                     3161.0        PAID  01-2022  00:00       100.0  \n",
       "145                  284548.0        PAID  03-2022  00:00       100.0  \n",
       "216                  158108.0        PAID  04-2022  00:00       100.0  \n",
       "229                   15660.0        PAID  04-2022  00:00       100.0  \n",
       "275                    8120.0        PAID  02-2022  00:00       100.0  \n",
       "299                    7018.0        PAID  02-2022  00:00       100.0  \n",
       "320                  100224.0        PAID  02-2022  00:00       100.0  \n",
       "336                    7018.0        PAID  02-2022  00:00       100.0  \n",
       "344                    7018.0        PAID  03-2022  00:00       100.0  \n",
       "393                   70000.0        PAID  04-2022  00:00       100.0  \n",
       "490                    8236.0        PAID  01-2022  16:05       100.0  \n",
       "613                    5220.0        PAID  04-2022  00:00       100.0  \n",
       "819                   16646.0  PROCESSING      NaN    NaN       100.0  \n",
       "821                   23548.0  PROCESSING      NaN    NaN       100.0  \n",
       "948                    2378.0        PAID  03-2022  00:00       100.0  \n",
       "997                   60000.0  PROCESSING      NaN    NaN       100.0  \n",
       "1089                   3000.0  PROCESSING      NaN    NaN       100.0  \n",
       "1092                   4000.0  PROCESSING      NaN    NaN       100.0  \n",
       "1098                   1500.0        PAID  03-2022  00:00       100.0  \n",
       "1099                   2200.0        PAID  03-2022  00:00       100.0  \n",
       "1116                 116261.0        PAID  02-2022  00:00       100.0  \n",
       "1187                  17168.0      FAILED      NaN    NaN       100.0  "
      ]
     },
     "execution_count": 27,
     "metadata": {},
     "output_type": "execute_result"
    }
   ],
   "source": [
    "full"
   ]
  },
  {
   "cell_type": "code",
   "execution_count": 28,
   "id": "bcbe9093-3f15-4d82-8577-bebc639e484d",
   "metadata": {},
   "outputs": [
    {
     "data": {
      "text/plain": [
       "PAID          20\n",
       "PROCESSING     5\n",
       "FAILED         1\n",
       "Name: status, dtype: int64"
      ]
     },
     "execution_count": 28,
     "metadata": {},
     "output_type": "execute_result"
    }
   ],
   "source": [
    "full['status'].value_counts()"
   ]
  },
  {
   "cell_type": "code",
   "execution_count": 29,
   "id": "d4065889-1ee0-41ee-8c75-cce1ff46b473",
   "metadata": {},
   "outputs": [],
   "source": [
    "# Observamos que son pocos los casos en los que xepelin financio el 100% del pago. Se trata de menos del 2%. \n",
    "# En principio se trata de un producto # en el cual la financiacion del 100% de xepelin no esta funcionado. \n",
    "# El 76% de estos casos de financiacion # del 100 ya fueron pagados, y solo uno fallo en el pago."
   ]
  },
  {
   "cell_type": "code",
   "execution_count": 30,
   "id": "c9d63e71-c437-4e46-b4ff-2eb7f4d730ff",
   "metadata": {},
   "outputs": [],
   "source": [
    "cero = data.loc[data['porcentaje'] == 00.000000]"
   ]
  },
  {
   "cell_type": "code",
   "execution_count": 31,
   "id": "4e6424f3-d9a0-4519-ab41-0f41b4ef707e",
   "metadata": {},
   "outputs": [
    {
     "data": {
      "text/html": [
       "<div>\n",
       "<style scoped>\n",
       "    .dataframe tbody tr th:only-of-type {\n",
       "        vertical-align: middle;\n",
       "    }\n",
       "\n",
       "    .dataframe tbody tr th {\n",
       "        vertical-align: top;\n",
       "    }\n",
       "\n",
       "    .dataframe thead th {\n",
       "        text-align: right;\n",
       "    }\n",
       "</style>\n",
       "<table border=\"1\" class=\"dataframe\">\n",
       "  <thead>\n",
       "    <tr style=\"text-align: right;\">\n",
       "      <th></th>\n",
       "      <th>PayerId</th>\n",
       "      <th>ReceiverId</th>\n",
       "      <th>invoiceId</th>\n",
       "      <th>paidAt</th>\n",
       "      <th>amount</th>\n",
       "      <th>amountfinancedByXepelin</th>\n",
       "      <th>status</th>\n",
       "      <th>date</th>\n",
       "      <th>time</th>\n",
       "      <th>porcentaje</th>\n",
       "    </tr>\n",
       "  </thead>\n",
       "  <tbody>\n",
       "    <tr>\n",
       "      <th>0</th>\n",
       "      <td>53</td>\n",
       "      <td>10</td>\n",
       "      <td>18660729</td>\n",
       "      <td>2022-04-23</td>\n",
       "      <td>1490.46</td>\n",
       "      <td>0.0</td>\n",
       "      <td>PAID</td>\n",
       "      <td>04-2022</td>\n",
       "      <td>00:00</td>\n",
       "      <td>0.0</td>\n",
       "    </tr>\n",
       "    <tr>\n",
       "      <th>7</th>\n",
       "      <td>55</td>\n",
       "      <td>17</td>\n",
       "      <td>18660736</td>\n",
       "      <td>2022-04-23</td>\n",
       "      <td>1190.46</td>\n",
       "      <td>0.0</td>\n",
       "      <td>PAID</td>\n",
       "      <td>04-2022</td>\n",
       "      <td>00:00</td>\n",
       "      <td>0.0</td>\n",
       "    </tr>\n",
       "    <tr>\n",
       "      <th>8</th>\n",
       "      <td>126</td>\n",
       "      <td>18</td>\n",
       "      <td>18660737</td>\n",
       "      <td>2021-10-09</td>\n",
       "      <td>920.26</td>\n",
       "      <td>0.0</td>\n",
       "      <td>PAID</td>\n",
       "      <td>10-2021</td>\n",
       "      <td>00:00</td>\n",
       "      <td>0.0</td>\n",
       "    </tr>\n",
       "    <tr>\n",
       "      <th>9</th>\n",
       "      <td>151</td>\n",
       "      <td>19</td>\n",
       "      <td>18660738</td>\n",
       "      <td>2021-10-09</td>\n",
       "      <td>1490.46</td>\n",
       "      <td>0.0</td>\n",
       "      <td>PAID</td>\n",
       "      <td>10-2021</td>\n",
       "      <td>00:00</td>\n",
       "      <td>0.0</td>\n",
       "    </tr>\n",
       "    <tr>\n",
       "      <th>10</th>\n",
       "      <td>37</td>\n",
       "      <td>21</td>\n",
       "      <td>18660739</td>\n",
       "      <td>2022-03-23</td>\n",
       "      <td>990.46</td>\n",
       "      <td>0.0</td>\n",
       "      <td>PAID</td>\n",
       "      <td>03-2022</td>\n",
       "      <td>00:00</td>\n",
       "      <td>0.0</td>\n",
       "    </tr>\n",
       "    <tr>\n",
       "      <th>...</th>\n",
       "      <td>...</td>\n",
       "      <td>...</td>\n",
       "      <td>...</td>\n",
       "      <td>...</td>\n",
       "      <td>...</td>\n",
       "      <td>...</td>\n",
       "      <td>...</td>\n",
       "      <td>...</td>\n",
       "      <td>...</td>\n",
       "      <td>...</td>\n",
       "    </tr>\n",
       "    <tr>\n",
       "      <th>1195</th>\n",
       "      <td>9</td>\n",
       "      <td>16</td>\n",
       "      <td>18661924</td>\n",
       "      <td>NaT</td>\n",
       "      <td>1281.86</td>\n",
       "      <td>0.0</td>\n",
       "      <td>FAILED</td>\n",
       "      <td>NaN</td>\n",
       "      <td>NaN</td>\n",
       "      <td>0.0</td>\n",
       "    </tr>\n",
       "    <tr>\n",
       "      <th>1196</th>\n",
       "      <td>135</td>\n",
       "      <td>80</td>\n",
       "      <td>18661925</td>\n",
       "      <td>NaT</td>\n",
       "      <td>1147.86</td>\n",
       "      <td>0.0</td>\n",
       "      <td>FAILED</td>\n",
       "      <td>NaN</td>\n",
       "      <td>NaN</td>\n",
       "      <td>0.0</td>\n",
       "    </tr>\n",
       "    <tr>\n",
       "      <th>1197</th>\n",
       "      <td>61</td>\n",
       "      <td>16</td>\n",
       "      <td>18661926</td>\n",
       "      <td>NaT</td>\n",
       "      <td>1490.46</td>\n",
       "      <td>0.0</td>\n",
       "      <td>FAILED</td>\n",
       "      <td>NaN</td>\n",
       "      <td>NaN</td>\n",
       "      <td>0.0</td>\n",
       "    </tr>\n",
       "    <tr>\n",
       "      <th>1198</th>\n",
       "      <td>36</td>\n",
       "      <td>154</td>\n",
       "      <td>18661927</td>\n",
       "      <td>NaT</td>\n",
       "      <td>800.66</td>\n",
       "      <td>0.0</td>\n",
       "      <td>FAILED</td>\n",
       "      <td>NaN</td>\n",
       "      <td>NaN</td>\n",
       "      <td>0.0</td>\n",
       "    </tr>\n",
       "    <tr>\n",
       "      <th>1199</th>\n",
       "      <td>65</td>\n",
       "      <td>55</td>\n",
       "      <td>18661928</td>\n",
       "      <td>NaT</td>\n",
       "      <td>1490.46</td>\n",
       "      <td>0.0</td>\n",
       "      <td>FAILED</td>\n",
       "      <td>NaN</td>\n",
       "      <td>NaN</td>\n",
       "      <td>0.0</td>\n",
       "    </tr>\n",
       "  </tbody>\n",
       "</table>\n",
       "<p>914 rows × 10 columns</p>\n",
       "</div>"
      ],
      "text/plain": [
       "      PayerId  ReceiverId  invoiceId     paidAt   amount  \\\n",
       "0          53          10   18660729 2022-04-23  1490.46   \n",
       "7          55          17   18660736 2022-04-23  1190.46   \n",
       "8         126          18   18660737 2021-10-09   920.26   \n",
       "9         151          19   18660738 2021-10-09  1490.46   \n",
       "10         37          21   18660739 2022-03-23   990.46   \n",
       "...       ...         ...        ...        ...      ...   \n",
       "1195        9          16   18661924        NaT  1281.86   \n",
       "1196      135          80   18661925        NaT  1147.86   \n",
       "1197       61          16   18661926        NaT  1490.46   \n",
       "1198       36         154   18661927        NaT   800.66   \n",
       "1199       65          55   18661928        NaT  1490.46   \n",
       "\n",
       "      amountfinancedByXepelin  status     date   time  porcentaje  \n",
       "0                         0.0    PAID  04-2022  00:00         0.0  \n",
       "7                         0.0    PAID  04-2022  00:00         0.0  \n",
       "8                         0.0    PAID  10-2021  00:00         0.0  \n",
       "9                         0.0    PAID  10-2021  00:00         0.0  \n",
       "10                        0.0    PAID  03-2022  00:00         0.0  \n",
       "...                       ...     ...      ...    ...         ...  \n",
       "1195                      0.0  FAILED      NaN    NaN         0.0  \n",
       "1196                      0.0  FAILED      NaN    NaN         0.0  \n",
       "1197                      0.0  FAILED      NaN    NaN         0.0  \n",
       "1198                      0.0  FAILED      NaN    NaN         0.0  \n",
       "1199                      0.0  FAILED      NaN    NaN         0.0  \n",
       "\n",
       "[914 rows x 10 columns]"
      ]
     },
     "execution_count": 31,
     "metadata": {},
     "output_type": "execute_result"
    }
   ],
   "source": [
    "cero"
   ]
  },
  {
   "cell_type": "code",
   "execution_count": 32,
   "id": "d3c15aa4-d54b-4c06-aac1-ba2281f56c9d",
   "metadata": {},
   "outputs": [
    {
     "data": {
      "text/plain": [
       "PAID          671\n",
       "PROCESSING    216\n",
       "FAILED         27\n",
       "Name: status, dtype: int64"
      ]
     },
     "execution_count": 32,
     "metadata": {},
     "output_type": "execute_result"
    }
   ],
   "source": [
    "cero['status'].value_counts()"
   ]
  },
  {
   "cell_type": "code",
   "execution_count": 33,
   "id": "7b8fca2b-9a76-4a34-844b-49b068cf32e8",
   "metadata": {},
   "outputs": [],
   "source": [
    "# El 76% de los casos no fueron financiados por xepelin. Este numero es muy alto, considero que deberiamos estar financiando muchos pagos mas y\n",
    "# que el producto deberia seguir creciendo y ocupando mercado. \n",
    "#Deberiamos analizar que esta fallando que nuestros clientes no estan eligiendo #este tipo de financiacion que brindamos. Este nuevo producto debe crecer."
   ]
  },
  {
   "cell_type": "code",
   "execution_count": 34,
   "id": "8e0aea34-e878-4c76-925c-03787727da94",
   "metadata": {},
   "outputs": [],
   "source": [
    "data['date'] = data['date'].fillna(\"-1\") #a los fines de graficar vamos a reemplazar los nan de esta columna por un string. no vamos a reemplazar con la fecha mas usada, ya que traeria mucha correlacion con una fecha, y debemos usar esta columna cuando entrenemos el modelo"
   ]
  },
  {
   "cell_type": "code",
   "execution_count": 35,
   "id": "26daf6db-b651-473e-9c24-1232f7108077",
   "metadata": {},
   "outputs": [],
   "source": [
    "last_year = data[data['date'].str.contains(\"2021\")]"
   ]
  },
  {
   "cell_type": "code",
   "execution_count": 36,
   "id": "d65ba637-ddfa-4499-8019-c16326fcba24",
   "metadata": {},
   "outputs": [
    {
     "data": {
      "image/png": "[encoded data removed]",
      "text/plain": [
       "<Figure size 1440x576 with 1 Axes>"
      ]
     },
     "metadata": {
      "needs_background": "light"
     },
     "output_type": "display_data"
    }
   ],
   "source": [
    "fig, ax = plt.subplots(figsize=(20, 8))\n",
    "chart = sns.barplot(x=\"date\",\n",
    "            y=\"porcentaje\",\n",
    "            data= last_year, palette=\"summer\", ax=ax)\n",
    "chart.set_title('Porcentaje de financiacion de xepelin en el año 2021')\n",
    "chart.set_xticklabels(chart.get_xticklabels(), rotation=30)\n",
    "# annotation here\n",
    "for p in chart.patches:\n",
    "             chart.annotate(\"%.0f\" % p.get_height(), (p.get_x() + p.get_width() / 2., p.get_height()),\n",
    "                 ha='center', va='center', fontsize=13, color='black', xytext=(0, 5),\n",
    "                 textcoords='offset points')\n",
    "x_dates = last_year['date'].sort_values().unique()\n",
    "ax.set_xticklabels(labels=x_dates, rotation=45, ha='right')\n",
    "plt.show()"
   ]
  },
  {
   "cell_type": "code",
   "execution_count": 37,
   "id": "3d78cf67-651e-40b7-b8dc-b020da82b0e8",
   "metadata": {},
   "outputs": [],
   "source": [
    "this_year = data[data['date'].str.contains(\"2022\")]"
   ]
  },
  {
   "cell_type": "code",
   "execution_count": 38,
   "id": "d5865512-4bd5-4304-807a-dc843f658c11",
   "metadata": {},
   "outputs": [
    {
     "data": {
      "text/html": [
       "<div>\n",
       "<style scoped>\n",
       "    .dataframe tbody tr th:only-of-type {\n",
       "        vertical-align: middle;\n",
       "    }\n",
       "\n",
       "    .dataframe tbody tr th {\n",
       "        vertical-align: top;\n",
       "    }\n",
       "\n",
       "    .dataframe thead th {\n",
       "        text-align: right;\n",
       "    }\n",
       "</style>\n",
       "<table border=\"1\" class=\"dataframe\">\n",
       "  <thead>\n",
       "    <tr style=\"text-align: right;\">\n",
       "      <th></th>\n",
       "      <th>PayerId</th>\n",
       "      <th>ReceiverId</th>\n",
       "      <th>invoiceId</th>\n",
       "      <th>paidAt</th>\n",
       "      <th>amount</th>\n",
       "      <th>amountfinancedByXepelin</th>\n",
       "      <th>status</th>\n",
       "      <th>date</th>\n",
       "      <th>time</th>\n",
       "      <th>porcentaje</th>\n",
       "    </tr>\n",
       "  </thead>\n",
       "  <tbody>\n",
       "    <tr>\n",
       "      <th>0</th>\n",
       "      <td>53</td>\n",
       "      <td>10</td>\n",
       "      <td>18660729</td>\n",
       "      <td>2022-04-23 00:00:00</td>\n",
       "      <td>1490.46</td>\n",
       "      <td>0.00</td>\n",
       "      <td>PAID</td>\n",
       "      <td>04-2022</td>\n",
       "      <td>00:00</td>\n",
       "      <td>0.000000</td>\n",
       "    </tr>\n",
       "    <tr>\n",
       "      <th>4</th>\n",
       "      <td>87</td>\n",
       "      <td>14</td>\n",
       "      <td>18660733</td>\n",
       "      <td>2022-03-23 00:00:00</td>\n",
       "      <td>20532.00</td>\n",
       "      <td>20532.00</td>\n",
       "      <td>PAID</td>\n",
       "      <td>03-2022</td>\n",
       "      <td>00:00</td>\n",
       "      <td>100.000000</td>\n",
       "    </tr>\n",
       "    <tr>\n",
       "      <th>6</th>\n",
       "      <td>99</td>\n",
       "      <td>16</td>\n",
       "      <td>18660735</td>\n",
       "      <td>2022-04-23 00:00:00</td>\n",
       "      <td>6323.16</td>\n",
       "      <td>2522.42</td>\n",
       "      <td>PAID</td>\n",
       "      <td>04-2022</td>\n",
       "      <td>00:00</td>\n",
       "      <td>39.892772</td>\n",
       "    </tr>\n",
       "    <tr>\n",
       "      <th>7</th>\n",
       "      <td>55</td>\n",
       "      <td>17</td>\n",
       "      <td>18660736</td>\n",
       "      <td>2022-04-23 00:00:00</td>\n",
       "      <td>1190.46</td>\n",
       "      <td>0.00</td>\n",
       "      <td>PAID</td>\n",
       "      <td>04-2022</td>\n",
       "      <td>00:00</td>\n",
       "      <td>0.000000</td>\n",
       "    </tr>\n",
       "    <tr>\n",
       "      <th>10</th>\n",
       "      <td>37</td>\n",
       "      <td>21</td>\n",
       "      <td>18660739</td>\n",
       "      <td>2022-03-23 00:00:00</td>\n",
       "      <td>990.46</td>\n",
       "      <td>0.00</td>\n",
       "      <td>PAID</td>\n",
       "      <td>03-2022</td>\n",
       "      <td>00:00</td>\n",
       "      <td>0.000000</td>\n",
       "    </tr>\n",
       "    <tr>\n",
       "      <th>...</th>\n",
       "      <td>...</td>\n",
       "      <td>...</td>\n",
       "      <td>...</td>\n",
       "      <td>...</td>\n",
       "      <td>...</td>\n",
       "      <td>...</td>\n",
       "      <td>...</td>\n",
       "      <td>...</td>\n",
       "      <td>...</td>\n",
       "      <td>...</td>\n",
       "    </tr>\n",
       "    <tr>\n",
       "      <th>1117</th>\n",
       "      <td>163</td>\n",
       "      <td>143</td>\n",
       "      <td>18661846</td>\n",
       "      <td>2022-02-01 15:15:00</td>\n",
       "      <td>1490.26</td>\n",
       "      <td>0.00</td>\n",
       "      <td>PAID</td>\n",
       "      <td>02-2022</td>\n",
       "      <td>15:15</td>\n",
       "      <td>0.000000</td>\n",
       "    </tr>\n",
       "    <tr>\n",
       "      <th>1152</th>\n",
       "      <td>121</td>\n",
       "      <td>43</td>\n",
       "      <td>18661881</td>\n",
       "      <td>2022-01-22 18:29:00</td>\n",
       "      <td>1490.26</td>\n",
       "      <td>0.00</td>\n",
       "      <td>PAID</td>\n",
       "      <td>01-2022</td>\n",
       "      <td>18:29</td>\n",
       "      <td>0.000000</td>\n",
       "    </tr>\n",
       "    <tr>\n",
       "      <th>1163</th>\n",
       "      <td>191</td>\n",
       "      <td>118</td>\n",
       "      <td>18661892</td>\n",
       "      <td>2022-02-23 00:00:00</td>\n",
       "      <td>1147.86</td>\n",
       "      <td>0.00</td>\n",
       "      <td>PAID</td>\n",
       "      <td>02-2022</td>\n",
       "      <td>00:00</td>\n",
       "      <td>0.000000</td>\n",
       "    </tr>\n",
       "    <tr>\n",
       "      <th>1164</th>\n",
       "      <td>171</td>\n",
       "      <td>125</td>\n",
       "      <td>18661893</td>\n",
       "      <td>2022-02-23 00:00:00</td>\n",
       "      <td>1792.46</td>\n",
       "      <td>0.00</td>\n",
       "      <td>PAID</td>\n",
       "      <td>02-2022</td>\n",
       "      <td>00:00</td>\n",
       "      <td>0.000000</td>\n",
       "    </tr>\n",
       "    <tr>\n",
       "      <th>1170</th>\n",
       "      <td>145</td>\n",
       "      <td>58</td>\n",
       "      <td>18661899</td>\n",
       "      <td>2022-04-19 00:00:00</td>\n",
       "      <td>1490.46</td>\n",
       "      <td>0.00</td>\n",
       "      <td>PAID</td>\n",
       "      <td>04-2022</td>\n",
       "      <td>00:00</td>\n",
       "      <td>0.000000</td>\n",
       "    </tr>\n",
       "  </tbody>\n",
       "</table>\n",
       "<p>857 rows × 10 columns</p>\n",
       "</div>"
      ],
      "text/plain": [
       "      PayerId  ReceiverId  invoiceId              paidAt    amount  \\\n",
       "0          53          10   18660729 2022-04-23 00:00:00   1490.46   \n",
       "4          87          14   18660733 2022-03-23 00:00:00  20532.00   \n",
       "6          99          16   18660735 2022-04-23 00:00:00   6323.16   \n",
       "7          55          17   18660736 2022-04-23 00:00:00   1190.46   \n",
       "10         37          21   18660739 2022-03-23 00:00:00    990.46   \n",
       "...       ...         ...        ...                 ...       ...   \n",
       "1117      163         143   18661846 2022-02-01 15:15:00   1490.26   \n",
       "1152      121          43   18661881 2022-01-22 18:29:00   1490.26   \n",
       "1163      191         118   18661892 2022-02-23 00:00:00   1147.86   \n",
       "1164      171         125   18661893 2022-02-23 00:00:00   1792.46   \n",
       "1170      145          58   18661899 2022-04-19 00:00:00   1490.46   \n",
       "\n",
       "      amountfinancedByXepelin status     date   time  porcentaje  \n",
       "0                        0.00   PAID  04-2022  00:00    0.000000  \n",
       "4                    20532.00   PAID  03-2022  00:00  100.000000  \n",
       "6                     2522.42   PAID  04-2022  00:00   39.892772  \n",
       "7                        0.00   PAID  04-2022  00:00    0.000000  \n",
       "10                       0.00   PAID  03-2022  00:00    0.000000  \n",
       "...                       ...    ...      ...    ...         ...  \n",
       "1117                     0.00   PAID  02-2022  15:15    0.000000  \n",
       "1152                     0.00   PAID  01-2022  18:29    0.000000  \n",
       "1163                     0.00   PAID  02-2022  00:00    0.000000  \n",
       "1164                     0.00   PAID  02-2022  00:00    0.000000  \n",
       "1170                     0.00   PAID  04-2022  00:00    0.000000  \n",
       "\n",
       "[857 rows x 10 columns]"
      ]
     },
     "execution_count": 38,
     "metadata": {},
     "output_type": "execute_result"
    }
   ],
   "source": [
    "this_year"
   ]
  },
  {
   "cell_type": "code",
   "execution_count": 39,
   "id": "368ede8a-a4f4-4556-bfda-23ef8859bccc",
   "metadata": {},
   "outputs": [
    {
     "data": {
      "image/png": "[encoded data removed]",
      "text/plain": [
       "<Figure size 1440x576 with 1 Axes>"
      ]
     },
     "metadata": {
      "needs_background": "light"
     },
     "output_type": "display_data"
    }
   ],
   "source": [
    "fig, ax = plt.subplots(figsize=(20, 8))\n",
    "chart = sns.barplot(x=\"date\",\n",
    "            y=\"porcentaje\",\n",
    "            data= this_year, palette=\"spring\", ax=ax)\n",
    "chart.set_title('Porcentaje de financiacion de xepelin en el año 2021')\n",
    "chart.set_xticklabels(chart.get_xticklabels(), rotation=30)\n",
    "# annotation here\n",
    "for p in chart.patches:\n",
    "             chart.annotate(\"%.0f\" % p.get_height(), (p.get_x() + p.get_width() / 2., p.get_height()),\n",
    "                 ha='center', va='center', fontsize=13, color='black', xytext=(0, 5),\n",
    "                 textcoords='offset points')\n",
    "x_dates = this_year['date'].sort_values().unique()\n",
    "ax.set_xticklabels(labels=x_dates, rotation=45, ha='right')\n",
    "plt.show()"
   ]
  },
  {
   "cell_type": "code",
   "execution_count": 40,
   "id": "dd278967-b981-4fe4-b330-e584b95d8bb7",
   "metadata": {},
   "outputs": [],
   "source": [
    "# Luego de ver estos graficos entendemos que las facturas que tienen fecha son las que han sido abonadas, \n",
    "# mientras que las que permanecen con nan son las que aun no. \n",
    "# El año pasado la media en el mes de diciembre de financiacion fue de 38%, siendo el mejor mes del año para el nuevo producto. \n",
    "# Viendo este año, encontramos que el mejor mes fue el de marzo donde tuvimos la media mas alta de financiacion, y el mes de mayo vino en alza.  "
   ]
  },
  {
   "cell_type": "code",
   "execution_count": 41,
   "id": "60b89450-4ec8-41e9-b54c-8f227a047925",
   "metadata": {},
   "outputs": [],
   "source": [
    "df = data.groupby('date').agg(\n",
    "        amount=('amount',np.mean),\n",
    "        amount_xepp=('amountfinancedByXepelin',np.mean),\n",
    "        count_dates=('date',len)\n",
    "    ).reset_index()\\\n",
    "    .sort_values(by='count_dates', ascending=False)"
   ]
  },
  {
   "cell_type": "code",
   "execution_count": 42,
   "id": "3a008a1a-168d-4a95-b82f-81af7b47face",
   "metadata": {},
   "outputs": [
    {
     "data": {
      "text/html": [
       "<div>\n",
       "<style scoped>\n",
       "    .dataframe tbody tr th:only-of-type {\n",
       "        vertical-align: middle;\n",
       "    }\n",
       "\n",
       "    .dataframe tbody tr th {\n",
       "        vertical-align: top;\n",
       "    }\n",
       "\n",
       "    .dataframe thead th {\n",
       "        text-align: right;\n",
       "    }\n",
       "</style>\n",
       "<table border=\"1\" class=\"dataframe\">\n",
       "  <thead>\n",
       "    <tr style=\"text-align: right;\">\n",
       "      <th></th>\n",
       "      <th>date</th>\n",
       "      <th>amount</th>\n",
       "      <th>amount_xepp</th>\n",
       "      <th>count_dates</th>\n",
       "    </tr>\n",
       "  </thead>\n",
       "  <tbody>\n",
       "    <tr>\n",
       "      <th>0</th>\n",
       "      <td>-1</td>\n",
       "      <td>19453.201688</td>\n",
       "      <td>14437.404968</td>\n",
       "      <td>308</td>\n",
       "    </tr>\n",
       "    <tr>\n",
       "      <th>4</th>\n",
       "      <td>04-2022</td>\n",
       "      <td>18744.980260</td>\n",
       "      <td>11367.547881</td>\n",
       "      <td>269</td>\n",
       "    </tr>\n",
       "    <tr>\n",
       "      <th>3</th>\n",
       "      <td>03-2022</td>\n",
       "      <td>25626.312222</td>\n",
       "      <td>10419.466578</td>\n",
       "      <td>225</td>\n",
       "    </tr>\n",
       "    <tr>\n",
       "      <th>2</th>\n",
       "      <td>02-2022</td>\n",
       "      <td>38801.423552</td>\n",
       "      <td>24512.089727</td>\n",
       "      <td>183</td>\n",
       "    </tr>\n",
       "    <tr>\n",
       "      <th>1</th>\n",
       "      <td>01-2022</td>\n",
       "      <td>68065.845981</td>\n",
       "      <td>48780.477850</td>\n",
       "      <td>107</td>\n",
       "    </tr>\n",
       "    <tr>\n",
       "      <th>5</th>\n",
       "      <td>05-2022</td>\n",
       "      <td>16175.186575</td>\n",
       "      <td>9790.900959</td>\n",
       "      <td>73</td>\n",
       "    </tr>\n",
       "    <tr>\n",
       "      <th>8</th>\n",
       "      <td>12-2021</td>\n",
       "      <td>44349.793529</td>\n",
       "      <td>34872.415882</td>\n",
       "      <td>17</td>\n",
       "    </tr>\n",
       "    <tr>\n",
       "      <th>7</th>\n",
       "      <td>11-2021</td>\n",
       "      <td>20642.245385</td>\n",
       "      <td>9180.962308</td>\n",
       "      <td>13</td>\n",
       "    </tr>\n",
       "    <tr>\n",
       "      <th>6</th>\n",
       "      <td>10-2021</td>\n",
       "      <td>7180.528000</td>\n",
       "      <td>2104.030000</td>\n",
       "      <td>5</td>\n",
       "    </tr>\n",
       "  </tbody>\n",
       "</table>\n",
       "</div>"
      ],
      "text/plain": [
       "      date        amount   amount_xepp  count_dates\n",
       "0       -1  19453.201688  14437.404968          308\n",
       "4  04-2022  18744.980260  11367.547881          269\n",
       "3  03-2022  25626.312222  10419.466578          225\n",
       "2  02-2022  38801.423552  24512.089727          183\n",
       "1  01-2022  68065.845981  48780.477850          107\n",
       "5  05-2022  16175.186575   9790.900959           73\n",
       "8  12-2021  44349.793529  34872.415882           17\n",
       "7  11-2021  20642.245385   9180.962308           13\n",
       "6  10-2021   7180.528000   2104.030000            5"
      ]
     },
     "execution_count": 42,
     "metadata": {},
     "output_type": "execute_result"
    }
   ],
   "source": [
    "df"
   ]
  },
  {
   "cell_type": "code",
   "execution_count": 43,
   "id": "63ddc2ba-3552-4328-9298-69c56a1ea4f0",
   "metadata": {},
   "outputs": [],
   "source": [
    "# Estos son los meses del año de los que tenemos datos, los ultimos tres meses del 2021, y los primeros 5 meses del año 2022. \n",
    "#Si tuvieramos el mes de junio del 2021, podriamos utilizarlo para estuimar junio del 2022, ya que puede existit uy factor de estacionalidad que podria detectarse \n",
    "#utilizando el mismo mes del año pasado. \n",
    "#Como esto no es posible y ademas ocntamos con pocos datos, usaremos todos los meses que se nos brindaron para entrenar el modelo. \n",
    "#Pero un estudio de estacionalidad es recomendable.  "
   ]
  },
  {
   "cell_type": "markdown",
   "id": "8bed8227-a6d5-40db-8684-f8468274878c",
   "metadata": {},
   "source": [
    "## Estacionalidad de amout y de financiacion de xepelin "
   ]
  },
  {
   "cell_type": "code",
   "execution_count": 44,
   "id": "f1f72e18-6ec5-43c4-ac64-d40a5835b7e6",
   "metadata": {},
   "outputs": [],
   "source": [
    "df = df[~df['date'].str.startswith('-1')]\n"
   ]
  },
  {
   "cell_type": "code",
   "execution_count": 45,
   "id": "d1ac2ccd-717f-4dd5-b4d1-ac6ac60e5d5b",
   "metadata": {},
   "outputs": [],
   "source": [
    "last = df[df['date'].str.contains(\"2021\")]"
   ]
  },
  {
   "cell_type": "code",
   "execution_count": 46,
   "id": "62bb238d-227a-45b6-a65f-2f053cbb9f28",
   "metadata": {},
   "outputs": [],
   "source": [
    "this = df[df['date'].str.contains(\"2022\")]"
   ]
  },
  {
   "cell_type": "code",
   "execution_count": 47,
   "id": "8304872f-d660-462c-b03b-369b724fba25",
   "metadata": {},
   "outputs": [],
   "source": [
    "last = last.sort_values(by = 'date', ascending = True)"
   ]
  },
  {
   "cell_type": "code",
   "execution_count": 48,
   "id": "8473bafb-be31-451b-8b5b-de2b80bc4392",
   "metadata": {},
   "outputs": [],
   "source": [
    "this = this.sort_values(by = 'date', ascending = True)"
   ]
  },
  {
   "cell_type": "markdown",
   "id": "0e311d16-5b17-4eee-9075-f6ced1f5c8b9",
   "metadata": {},
   "source": [
    "## amount "
   ]
  },
  {
   "cell_type": "code",
   "execution_count": 49,
   "id": "d01a4be9-6757-4625-940d-ad177c16fbaf",
   "metadata": {},
   "outputs": [
    {
     "data": {
      "image/png": "[encoded data removed]",
      "text/plain": [
       "<Figure size 1440x576 with 1 Axes>"
      ]
     },
     "metadata": {
      "needs_background": "light"
     },
     "output_type": "display_data"
    }
   ],
   "source": [
    "fig, ax = plt.subplots(figsize=(20, 8))\n",
    "chart = sns.barplot(x=\"date\",\n",
    "            y=\"amount\",\n",
    "            data= last, palette=\"spring\", ax=ax)\n",
    "plt.show()"
   ]
  },
  {
   "cell_type": "code",
   "execution_count": 50,
   "id": "96e380dc-29a6-4331-94c8-9669617b8880",
   "metadata": {},
   "outputs": [
    {
     "data": {
      "image/png": "[encoded data removed]",
      "text/plain": [
       "<Figure size 1440x576 with 1 Axes>"
      ]
     },
     "metadata": {
      "needs_background": "light"
     },
     "output_type": "display_data"
    }
   ],
   "source": [
    "fig, ax = plt.subplots(figsize=(20, 8))\n",
    "chart = sns.barplot(x=\"date\",\n",
    "            y=\"amount\",\n",
    "            data= this, palette=\"spring\", ax=ax)\n",
    "plt.show()"
   ]
  },
  {
   "cell_type": "markdown",
   "id": "ab759d98-4ce1-45d7-a546-a3b303d68730",
   "metadata": {},
   "source": [
    "## financiado por xepelin"
   ]
  },
  {
   "cell_type": "code",
   "execution_count": 51,
   "id": "eea10e6a-bfaa-4c12-8cb4-5454cc07e41c",
   "metadata": {},
   "outputs": [
    {
     "data": {
      "image/png": "[encoded data removed]",
      "text/plain": [
       "<Figure size 1440x576 with 1 Axes>"
      ]
     },
     "metadata": {
      "needs_background": "light"
     },
     "output_type": "display_data"
    }
   ],
   "source": [
    "fig, ax = plt.subplots(figsize=(20, 8))\n",
    "chart = sns.barplot(x=\"date\",\n",
    "            y=\"amount_xepp\",\n",
    "            data= last, palette=\"spring\", ax=ax)\n",
    "plt.show()"
   ]
  },
  {
   "cell_type": "code",
   "execution_count": 52,
   "id": "c02cd547-efc6-426f-bf1a-3365506c996f",
   "metadata": {},
   "outputs": [
    {
     "data": {
      "image/png": "[encoded data removed]",
      "text/plain": [
       "<Figure size 1440x576 with 1 Axes>"
      ]
     },
     "metadata": {
      "needs_background": "light"
     },
     "output_type": "display_data"
    }
   ],
   "source": [
    "fig, ax = plt.subplots(figsize=(20, 8))\n",
    "chart = sns.barplot(x=\"date\",\n",
    "            y=\"amount_xepp\",\n",
    "            data= this, palette=\"spring\", ax=ax)\n",
    "plt.show()"
   ]
  },
  {
   "cell_type": "code",
   "execution_count": 53,
   "id": "487eaef6-f5ae-4db8-81b4-24b653feb9d5",
   "metadata": {},
   "outputs": [],
   "source": [
    "# Aca ya observamos la relacion tan fuerte entre el amount y lo financiado por xepelin. \n",
    "# En los meses donde los pagos son mas grandes, es donde mas dinero se financia a traves de xepelin tambien. \n",
    "#Siempre teniendo en cuenta que estamos tomando la media. \n",
    "#Por otro lado, el porcentaje nos dio informacion valiosa tambien, porque nos dijo que en marzo fue cuando mas porcentaje se financio, a pensar de no ser el mes con mas amout de este año. "
   ]
  },
  {
   "cell_type": "markdown",
   "id": "cab56b18-42ec-4b3e-b351-d9ef01293f04",
   "metadata": {},
   "source": [
    "## Analisis de variables "
   ]
  },
  {
   "cell_type": "code",
   "execution_count": 54,
   "id": "f4f6ff61-5dd5-48b9-a1d2-8d7725cf36e7",
   "metadata": {},
   "outputs": [],
   "source": [
    "# Vamos a revisar las variables que se nos dieron para ver, cuales nos servirán para entrenar a nuestro modelo. \n",
    "# Recordemos que dejamos de lado la variable de horas por su gran cantidad de datos repetidos, y valores nan. \n",
    "# En el caso de la variable de fechas la vamos a utilizar como está, con el reemplazo de los valores nan. \n",
    "# Tenemos muy pocos casos para entrenar, entonces dejar de lado variables no es lo optimo. \n",
    "# En el caso de la variable de ID de las facturas, tambien vamos a dejarla de lado, ya que es una variable categorica que no tiene relacion alguna con las demas. \n",
    "# La variable amout sera utilizada ya que es una parece ser una variable fuerte y determinante para nuestro modelo. \n",
    "#Nuestra variable a predecir es la cantidad de dinero que financiará Xepelin.  \n",
    "#Vamos a construir un modelo de regresion ya que estamos hablando de un modelo que necesitamos que prediga una variable numerica continua. "
   ]
  },
  {
   "cell_type": "code",
   "execution_count": 55,
   "id": "7908aec1-3ff8-40ab-afd3-91d8258e840e",
   "metadata": {},
   "outputs": [],
   "source": [
    "payer_s = data.groupby('PayerId')['status'].value_counts().to_frame()"
   ]
  },
  {
   "cell_type": "code",
   "execution_count": 56,
   "id": "ba4b4319-b491-41a1-9e96-d1e44d0afc9f",
   "metadata": {},
   "outputs": [
    {
     "data": {
      "text/html": [
       "<div>\n",
       "<style scoped>\n",
       "    .dataframe tbody tr th:only-of-type {\n",
       "        vertical-align: middle;\n",
       "    }\n",
       "\n",
       "    .dataframe tbody tr th {\n",
       "        vertical-align: top;\n",
       "    }\n",
       "\n",
       "    .dataframe thead th {\n",
       "        text-align: right;\n",
       "    }\n",
       "</style>\n",
       "<table border=\"1\" class=\"dataframe\">\n",
       "  <thead>\n",
       "    <tr style=\"text-align: right;\">\n",
       "      <th></th>\n",
       "      <th></th>\n",
       "      <th>status</th>\n",
       "    </tr>\n",
       "    <tr>\n",
       "      <th>PayerId</th>\n",
       "      <th>status</th>\n",
       "      <th></th>\n",
       "    </tr>\n",
       "  </thead>\n",
       "  <tbody>\n",
       "    <tr>\n",
       "      <th rowspan=\"2\" valign=\"top\">1</th>\n",
       "      <th>PAID</th>\n",
       "      <td>6</td>\n",
       "    </tr>\n",
       "    <tr>\n",
       "      <th>PROCESSING</th>\n",
       "      <td>2</td>\n",
       "    </tr>\n",
       "    <tr>\n",
       "      <th rowspan=\"2\" valign=\"top\">2</th>\n",
       "      <th>PAID</th>\n",
       "      <td>3</td>\n",
       "    </tr>\n",
       "    <tr>\n",
       "      <th>PROCESSING</th>\n",
       "      <td>1</td>\n",
       "    </tr>\n",
       "    <tr>\n",
       "      <th>3</th>\n",
       "      <th>PROCESSING</th>\n",
       "      <td>1</td>\n",
       "    </tr>\n",
       "    <tr>\n",
       "      <th>...</th>\n",
       "      <th>...</th>\n",
       "      <td>...</td>\n",
       "    </tr>\n",
       "    <tr>\n",
       "      <th rowspan=\"2\" valign=\"top\">198</th>\n",
       "      <th>PAID</th>\n",
       "      <td>4</td>\n",
       "    </tr>\n",
       "    <tr>\n",
       "      <th>PROCESSING</th>\n",
       "      <td>1</td>\n",
       "    </tr>\n",
       "    <tr>\n",
       "      <th rowspan=\"2\" valign=\"top\">199</th>\n",
       "      <th>PAID</th>\n",
       "      <td>5</td>\n",
       "    </tr>\n",
       "    <tr>\n",
       "      <th>PROCESSING</th>\n",
       "      <td>3</td>\n",
       "    </tr>\n",
       "    <tr>\n",
       "      <th>200</th>\n",
       "      <th>PAID</th>\n",
       "      <td>2</td>\n",
       "    </tr>\n",
       "  </tbody>\n",
       "</table>\n",
       "<p>389 rows × 1 columns</p>\n",
       "</div>"
      ],
      "text/plain": [
       "                    status\n",
       "PayerId status            \n",
       "1       PAID             6\n",
       "        PROCESSING       2\n",
       "2       PAID             3\n",
       "        PROCESSING       1\n",
       "3       PROCESSING       1\n",
       "...                    ...\n",
       "198     PAID             4\n",
       "        PROCESSING       1\n",
       "199     PAID             5\n",
       "        PROCESSING       3\n",
       "200     PAID             2\n",
       "\n",
       "[389 rows x 1 columns]"
      ]
     },
     "execution_count": 56,
     "metadata": {},
     "output_type": "execute_result"
    }
   ],
   "source": [
    "payer_s"
   ]
  },
  {
   "cell_type": "code",
   "execution_count": 57,
   "id": "14ba1db6-acc4-4f8a-9a02-a596a7276081",
   "metadata": {},
   "outputs": [],
   "source": [
    "payer = data.groupby('PayerId').agg(\n",
    "        amount=('amount',np.mean),\n",
    "        amount_xepp=('amountfinancedByXepelin',np.mean)\n",
    "    ).reset_index()"
   ]
  },
  {
   "cell_type": "code",
   "execution_count": 58,
   "id": "533cb24d-6990-45d4-9d5f-341e79c0428f",
   "metadata": {},
   "outputs": [
    {
     "data": {
      "text/html": [
       "<div>\n",
       "<style scoped>\n",
       "    .dataframe tbody tr th:only-of-type {\n",
       "        vertical-align: middle;\n",
       "    }\n",
       "\n",
       "    .dataframe tbody tr th {\n",
       "        vertical-align: top;\n",
       "    }\n",
       "\n",
       "    .dataframe thead th {\n",
       "        text-align: right;\n",
       "    }\n",
       "</style>\n",
       "<table border=\"1\" class=\"dataframe\">\n",
       "  <thead>\n",
       "    <tr style=\"text-align: right;\">\n",
       "      <th></th>\n",
       "      <th>PayerId</th>\n",
       "      <th>amount</th>\n",
       "      <th>amount_xepp</th>\n",
       "    </tr>\n",
       "  </thead>\n",
       "  <tbody>\n",
       "    <tr>\n",
       "      <th>0</th>\n",
       "      <td>1</td>\n",
       "      <td>2747.452500</td>\n",
       "      <td>1315.44000</td>\n",
       "    </tr>\n",
       "    <tr>\n",
       "      <th>1</th>\n",
       "      <td>2</td>\n",
       "      <td>3589.302500</td>\n",
       "      <td>0.00000</td>\n",
       "    </tr>\n",
       "    <tr>\n",
       "      <th>2</th>\n",
       "      <td>3</td>\n",
       "      <td>2766.200000</td>\n",
       "      <td>0.00000</td>\n",
       "    </tr>\n",
       "    <tr>\n",
       "      <th>3</th>\n",
       "      <td>4</td>\n",
       "      <td>1178.080000</td>\n",
       "      <td>0.00000</td>\n",
       "    </tr>\n",
       "    <tr>\n",
       "      <th>4</th>\n",
       "      <td>5</td>\n",
       "      <td>7479.515000</td>\n",
       "      <td>2075.81250</td>\n",
       "    </tr>\n",
       "    <tr>\n",
       "      <th>...</th>\n",
       "      <td>...</td>\n",
       "      <td>...</td>\n",
       "      <td>...</td>\n",
       "    </tr>\n",
       "    <tr>\n",
       "      <th>195</th>\n",
       "      <td>196</td>\n",
       "      <td>5743.965714</td>\n",
       "      <td>1962.15000</td>\n",
       "    </tr>\n",
       "    <tr>\n",
       "      <th>196</th>\n",
       "      <td>197</td>\n",
       "      <td>45408.488000</td>\n",
       "      <td>44477.62400</td>\n",
       "    </tr>\n",
       "    <tr>\n",
       "      <th>197</th>\n",
       "      <td>198</td>\n",
       "      <td>1629.878000</td>\n",
       "      <td>200.00200</td>\n",
       "    </tr>\n",
       "    <tr>\n",
       "      <th>198</th>\n",
       "      <td>199</td>\n",
       "      <td>3206.555000</td>\n",
       "      <td>553.59875</td>\n",
       "    </tr>\n",
       "    <tr>\n",
       "      <th>199</th>\n",
       "      <td>200</td>\n",
       "      <td>1111.760000</td>\n",
       "      <td>0.00000</td>\n",
       "    </tr>\n",
       "  </tbody>\n",
       "</table>\n",
       "<p>200 rows × 3 columns</p>\n",
       "</div>"
      ],
      "text/plain": [
       "     PayerId        amount  amount_xepp\n",
       "0          1   2747.452500   1315.44000\n",
       "1          2   3589.302500      0.00000\n",
       "2          3   2766.200000      0.00000\n",
       "3          4   1178.080000      0.00000\n",
       "4          5   7479.515000   2075.81250\n",
       "..       ...           ...          ...\n",
       "195      196   5743.965714   1962.15000\n",
       "196      197  45408.488000  44477.62400\n",
       "197      198   1629.878000    200.00200\n",
       "198      199   3206.555000    553.59875\n",
       "199      200   1111.760000      0.00000\n",
       "\n",
       "[200 rows x 3 columns]"
      ]
     },
     "execution_count": 58,
     "metadata": {},
     "output_type": "execute_result"
    }
   ],
   "source": [
    "payer"
   ]
  },
  {
   "cell_type": "code",
   "execution_count": 59,
   "id": "9ca90068-014a-45ad-997b-d3599c5a9cd3",
   "metadata": {},
   "outputs": [],
   "source": [
    "#Encontramos que la variable PayerId adopta gran variedad de valores, lo cual nos indica a primera vista que es una buena variable para ser usada en nuestro modelo. \n",
    "#No existe una repeticion de los mismos PayerID o que correlacione muy fuerte con el resto de nuestras variables, y que nos indique lo contrario. "
   ]
  },
  {
   "cell_type": "code",
   "execution_count": 60,
   "id": "4327d996-4e7d-40eb-8092-7bef4e159984",
   "metadata": {},
   "outputs": [],
   "source": [
    "receiver_s = data.groupby('ReceiverId')['status'].value_counts().to_frame()"
   ]
  },
  {
   "cell_type": "code",
   "execution_count": 61,
   "id": "a498a2c1-15c0-4cb8-8026-2a1a8b259a02",
   "metadata": {},
   "outputs": [
    {
     "data": {
      "text/html": [
       "<div>\n",
       "<style scoped>\n",
       "    .dataframe tbody tr th:only-of-type {\n",
       "        vertical-align: middle;\n",
       "    }\n",
       "\n",
       "    .dataframe tbody tr th {\n",
       "        vertical-align: top;\n",
       "    }\n",
       "\n",
       "    .dataframe thead th {\n",
       "        text-align: right;\n",
       "    }\n",
       "</style>\n",
       "<table border=\"1\" class=\"dataframe\">\n",
       "  <thead>\n",
       "    <tr style=\"text-align: right;\">\n",
       "      <th></th>\n",
       "      <th></th>\n",
       "      <th>status</th>\n",
       "    </tr>\n",
       "    <tr>\n",
       "      <th>ReceiverId</th>\n",
       "      <th>status</th>\n",
       "      <th></th>\n",
       "    </tr>\n",
       "  </thead>\n",
       "  <tbody>\n",
       "    <tr>\n",
       "      <th rowspan=\"3\" valign=\"top\">10</th>\n",
       "      <th>PAID</th>\n",
       "      <td>8</td>\n",
       "    </tr>\n",
       "    <tr>\n",
       "      <th>PROCESSING</th>\n",
       "      <td>3</td>\n",
       "    </tr>\n",
       "    <tr>\n",
       "      <th>FAILED</th>\n",
       "      <td>1</td>\n",
       "    </tr>\n",
       "    <tr>\n",
       "      <th rowspan=\"2\" valign=\"top\">11</th>\n",
       "      <th>PAID</th>\n",
       "      <td>13</td>\n",
       "    </tr>\n",
       "    <tr>\n",
       "      <th>PROCESSING</th>\n",
       "      <td>5</td>\n",
       "    </tr>\n",
       "    <tr>\n",
       "      <th>...</th>\n",
       "      <th>...</th>\n",
       "      <td>...</td>\n",
       "    </tr>\n",
       "    <tr>\n",
       "      <th rowspan=\"2\" valign=\"top\">153</th>\n",
       "      <th>PROCESSING</th>\n",
       "      <td>2</td>\n",
       "    </tr>\n",
       "    <tr>\n",
       "      <th>FAILED</th>\n",
       "      <td>1</td>\n",
       "    </tr>\n",
       "    <tr>\n",
       "      <th rowspan=\"3\" valign=\"top\">154</th>\n",
       "      <th>PAID</th>\n",
       "      <td>4</td>\n",
       "    </tr>\n",
       "    <tr>\n",
       "      <th>FAILED</th>\n",
       "      <td>1</td>\n",
       "    </tr>\n",
       "    <tr>\n",
       "      <th>PROCESSING</th>\n",
       "      <td>1</td>\n",
       "    </tr>\n",
       "  </tbody>\n",
       "</table>\n",
       "<p>182 rows × 1 columns</p>\n",
       "</div>"
      ],
      "text/plain": [
       "                       status\n",
       "ReceiverId status            \n",
       "10         PAID             8\n",
       "           PROCESSING       3\n",
       "           FAILED           1\n",
       "11         PAID            13\n",
       "           PROCESSING       5\n",
       "...                       ...\n",
       "153        PROCESSING       2\n",
       "           FAILED           1\n",
       "154        PAID             4\n",
       "           FAILED           1\n",
       "           PROCESSING       1\n",
       "\n",
       "[182 rows x 1 columns]"
      ]
     },
     "execution_count": 61,
     "metadata": {},
     "output_type": "execute_result"
    }
   ],
   "source": [
    "receiver_s"
   ]
  },
  {
   "cell_type": "code",
   "execution_count": 62,
   "id": "cb802548-74c0-4ac2-ab12-0170c022089e",
   "metadata": {},
   "outputs": [],
   "source": [
    "receiver = data.groupby('ReceiverId').agg(\n",
    "        amount=('amount',np.mean),\n",
    "        amount_xepp=('amountfinancedByXepelin',np.mean)\n",
    "    ).reset_index()"
   ]
  },
  {
   "cell_type": "code",
   "execution_count": 63,
   "id": "39f60100-1168-4bf2-bf09-d10c53d399ef",
   "metadata": {},
   "outputs": [
    {
     "data": {
      "text/html": [
       "<div>\n",
       "<style scoped>\n",
       "    .dataframe tbody tr th:only-of-type {\n",
       "        vertical-align: middle;\n",
       "    }\n",
       "\n",
       "    .dataframe tbody tr th {\n",
       "        vertical-align: top;\n",
       "    }\n",
       "\n",
       "    .dataframe thead th {\n",
       "        text-align: right;\n",
       "    }\n",
       "</style>\n",
       "<table border=\"1\" class=\"dataframe\">\n",
       "  <thead>\n",
       "    <tr style=\"text-align: right;\">\n",
       "      <th></th>\n",
       "      <th>ReceiverId</th>\n",
       "      <th>amount</th>\n",
       "      <th>amount_xepp</th>\n",
       "    </tr>\n",
       "  </thead>\n",
       "  <tbody>\n",
       "    <tr>\n",
       "      <th>0</th>\n",
       "      <td>10</td>\n",
       "      <td>6676.668333</td>\n",
       "      <td>901.607500</td>\n",
       "    </tr>\n",
       "    <tr>\n",
       "      <th>1</th>\n",
       "      <td>11</td>\n",
       "      <td>27149.696111</td>\n",
       "      <td>25330.743333</td>\n",
       "    </tr>\n",
       "    <tr>\n",
       "      <th>2</th>\n",
       "      <td>12</td>\n",
       "      <td>30861.940000</td>\n",
       "      <td>7975.031667</td>\n",
       "    </tr>\n",
       "    <tr>\n",
       "      <th>3</th>\n",
       "      <td>13</td>\n",
       "      <td>27381.316667</td>\n",
       "      <td>14972.901667</td>\n",
       "    </tr>\n",
       "    <tr>\n",
       "      <th>4</th>\n",
       "      <td>14</td>\n",
       "      <td>23341.711452</td>\n",
       "      <td>8421.231720</td>\n",
       "    </tr>\n",
       "    <tr>\n",
       "      <th>...</th>\n",
       "      <td>...</td>\n",
       "      <td>...</td>\n",
       "      <td>...</td>\n",
       "    </tr>\n",
       "    <tr>\n",
       "      <th>72</th>\n",
       "      <td>145</td>\n",
       "      <td>1570.483333</td>\n",
       "      <td>0.000000</td>\n",
       "    </tr>\n",
       "    <tr>\n",
       "      <th>73</th>\n",
       "      <td>149</td>\n",
       "      <td>15852.090000</td>\n",
       "      <td>12014.893333</td>\n",
       "    </tr>\n",
       "    <tr>\n",
       "      <th>74</th>\n",
       "      <td>151</td>\n",
       "      <td>19281.863333</td>\n",
       "      <td>10794.276667</td>\n",
       "    </tr>\n",
       "    <tr>\n",
       "      <th>75</th>\n",
       "      <td>153</td>\n",
       "      <td>15877.633333</td>\n",
       "      <td>15191.403333</td>\n",
       "    </tr>\n",
       "    <tr>\n",
       "      <th>76</th>\n",
       "      <td>154</td>\n",
       "      <td>10140.756667</td>\n",
       "      <td>9086.860000</td>\n",
       "    </tr>\n",
       "  </tbody>\n",
       "</table>\n",
       "<p>77 rows × 3 columns</p>\n",
       "</div>"
      ],
      "text/plain": [
       "    ReceiverId        amount   amount_xepp\n",
       "0           10   6676.668333    901.607500\n",
       "1           11  27149.696111  25330.743333\n",
       "2           12  30861.940000   7975.031667\n",
       "3           13  27381.316667  14972.901667\n",
       "4           14  23341.711452   8421.231720\n",
       "..         ...           ...           ...\n",
       "72         145   1570.483333      0.000000\n",
       "73         149  15852.090000  12014.893333\n",
       "74         151  19281.863333  10794.276667\n",
       "75         153  15877.633333  15191.403333\n",
       "76         154  10140.756667   9086.860000\n",
       "\n",
       "[77 rows x 3 columns]"
      ]
     },
     "execution_count": 63,
     "metadata": {},
     "output_type": "execute_result"
    }
   ],
   "source": [
    "receiver"
   ]
  },
  {
   "cell_type": "code",
   "execution_count": 64,
   "id": "bb248915-9851-4b87-a89b-00350801693f",
   "metadata": {},
   "outputs": [],
   "source": [
    "#Lo mismo pasa con la variable Receiver. Lo que intentamos ver es si no se trata de una variable donde se repitan las mismas empresas como recibidoras, \n",
    "#o que acumulen la mayor parte de amount o de dinero financiado por xepelin. Visto esto, a esta variable tambien la utilizaremos."
   ]
  },
  {
   "cell_type": "code",
   "execution_count": 65,
   "id": "695f1c73-2c52-4d5e-922b-519c468629ae",
   "metadata": {},
   "outputs": [],
   "source": [
    "#Resumen :\n",
    "    #variables a usar : PayerId - ReceiverId - date - amount - amountfinancedByXepelin - status\n",
    "    #variables descartadas: invoiceId - time\n",
    "\n",
    "        #Aclaracion: Lo ideal es no descatar datos, pero a los fines de este analisis es la mejor opcion."
   ]
  },
  {
   "cell_type": "code",
   "execution_count": 66,
   "id": "145fbff3-9204-40a1-b4ea-1a8bef5be518",
   "metadata": {},
   "outputs": [],
   "source": [
    "df = data.drop(columns=['invoiceId', 'time', 'paidAt', 'porcentaje'])"
   ]
  },
  {
   "cell_type": "code",
   "execution_count": 67,
   "id": "0e6274d3-fbc2-475c-af85-ec9508f57f8e",
   "metadata": {},
   "outputs": [
    {
     "data": {
      "text/html": [
       "<div>\n",
       "<style scoped>\n",
       "    .dataframe tbody tr th:only-of-type {\n",
       "        vertical-align: middle;\n",
       "    }\n",
       "\n",
       "    .dataframe tbody tr th {\n",
       "        vertical-align: top;\n",
       "    }\n",
       "\n",
       "    .dataframe thead th {\n",
       "        text-align: right;\n",
       "    }\n",
       "</style>\n",
       "<table border=\"1\" class=\"dataframe\">\n",
       "  <thead>\n",
       "    <tr style=\"text-align: right;\">\n",
       "      <th></th>\n",
       "      <th>PayerId</th>\n",
       "      <th>ReceiverId</th>\n",
       "      <th>amount</th>\n",
       "      <th>amountfinancedByXepelin</th>\n",
       "      <th>status</th>\n",
       "      <th>date</th>\n",
       "    </tr>\n",
       "  </thead>\n",
       "  <tbody>\n",
       "    <tr>\n",
       "      <th>0</th>\n",
       "      <td>53</td>\n",
       "      <td>10</td>\n",
       "      <td>1490.46</td>\n",
       "      <td>0.00</td>\n",
       "      <td>PAID</td>\n",
       "      <td>04-2022</td>\n",
       "    </tr>\n",
       "    <tr>\n",
       "      <th>1</th>\n",
       "      <td>93</td>\n",
       "      <td>11</td>\n",
       "      <td>6418.28</td>\n",
       "      <td>624.48</td>\n",
       "      <td>PAID</td>\n",
       "      <td>11-2021</td>\n",
       "    </tr>\n",
       "    <tr>\n",
       "      <th>2</th>\n",
       "      <td>122</td>\n",
       "      <td>12</td>\n",
       "      <td>27979.20</td>\n",
       "      <td>10520.15</td>\n",
       "      <td>PAID</td>\n",
       "      <td>10-2021</td>\n",
       "    </tr>\n",
       "    <tr>\n",
       "      <th>3</th>\n",
       "      <td>85</td>\n",
       "      <td>13</td>\n",
       "      <td>183070.77</td>\n",
       "      <td>79421.63</td>\n",
       "      <td>PAID</td>\n",
       "      <td>11-2021</td>\n",
       "    </tr>\n",
       "    <tr>\n",
       "      <th>4</th>\n",
       "      <td>87</td>\n",
       "      <td>14</td>\n",
       "      <td>20532.00</td>\n",
       "      <td>20532.00</td>\n",
       "      <td>PAID</td>\n",
       "      <td>03-2022</td>\n",
       "    </tr>\n",
       "  </tbody>\n",
       "</table>\n",
       "</div>"
      ],
      "text/plain": [
       "   PayerId  ReceiverId     amount  amountfinancedByXepelin status     date\n",
       "0       53          10    1490.46                     0.00   PAID  04-2022\n",
       "1       93          11    6418.28                   624.48   PAID  11-2021\n",
       "2      122          12   27979.20                 10520.15   PAID  10-2021\n",
       "3       85          13  183070.77                 79421.63   PAID  11-2021\n",
       "4       87          14   20532.00                 20532.00   PAID  03-2022"
      ]
     },
     "execution_count": 67,
     "metadata": {},
     "output_type": "execute_result"
    }
   ],
   "source": [
    "df.head()"
   ]
  },
  {
   "cell_type": "code",
   "execution_count": 68,
   "id": "4de9b3d0-2f3a-4e0f-ac40-60c82c72942b",
   "metadata": {},
   "outputs": [
    {
     "data": {
      "text/plain": [
       "False"
      ]
     },
     "execution_count": 68,
     "metadata": {},
     "output_type": "execute_result"
    }
   ],
   "source": [
    "df.isnull().values.any()"
   ]
  },
  {
   "cell_type": "markdown",
   "id": "d26b15d0-92fe-41e6-880f-1fd9f79aa38d",
   "metadata": {},
   "source": [
    "## Modelado"
   ]
  },
  {
   "cell_type": "code",
   "execution_count": 69,
   "id": "311aba80-1cc4-45d8-8405-e5f9466e8001",
   "metadata": {},
   "outputs": [],
   "source": [
    "# Este problema que se nos planteo, pronosticar el movimiento de dinero en junio del 2022, es un problema que puede ser atacado mediante series de tiempo. \n",
    "#Pero antes de hacerlo, vamos a crear ademas un modelo de regresion, que podrá servirnos tambien, siempre y cuando las metricas del mismo sean favorables. \n",
    "#Comenzamos entonces con un modelo de regresion, y finalizaremos con nuestra serie de tiempo. "
   ]
  },
  {
   "cell_type": "markdown",
   "id": "7a64dd4d-082a-474c-82ae-1c62dceba56b",
   "metadata": {},
   "source": [
    "## Construcción de modelo de regresión"
   ]
  },
  {
   "cell_type": "markdown",
   "id": "aebe16c2-9cf8-4838-afb0-7b8699bc78b9",
   "metadata": {},
   "source": [
    "### XGBoost Extreme Gradient Boosting"
   ]
  },
  {
   "cell_type": "code",
   "execution_count": 70,
   "id": "09c7eb38-b125-4a44-9fbe-c9393f1afba4",
   "metadata": {},
   "outputs": [],
   "source": [
    "# XGBoost Extreme Gradient Boosting es un modelo supervisado que utiliza el principio de boosting. \n",
    "# La idea detrás del boosting es generar múltiples modelos de predicción “débiles” secuencialmente, y que cada uno de estos tome los resultados del modelo anterior, para generar un modelo más “fuerte”, con mejor poder predictivo y mayor estabilidad en sus resultados. \n",
    "# Para conseguir un modelo más fuerte a partir de estos modelos débiles, se emplea un algoritmo de optimización, y en este caso el descenso del gradiente. \n",
    "# De todos los modelos de regresion disponibles, elegi este porque es un modelo robusto y que se ejecuta relativamente rapido. Si bien siempre es bueno comenzar con modelos simples e ir de lo simple a lo complejo, al tratarse de un ejercicio para entrar a una empresa vamos a hacer un modelito bien moderno. \n",
    "# Otra alternativa era usar la libreria AutoML, que prueba diversos modelos y elige el mejor. Pero vamos con el XG boost. "
   ]
  },
  {
   "cell_type": "code",
   "execution_count": 71,
   "id": "af0ce5d4-1c23-4d48-8e11-caf1089893a6",
   "metadata": {},
   "outputs": [],
   "source": [
    "# hacer one hot encoding o get dummys "
   ]
  },
  {
   "cell_type": "code",
   "execution_count": 72,
   "id": "77c4a7e5-bc97-4b05-9fb7-4e2b9c100418",
   "metadata": {},
   "outputs": [],
   "source": [
    "data = pd.get_dummies(df, columns = ['PayerId', 'ReceiverId', 'status', 'date'])"
   ]
  },
  {
   "cell_type": "code",
   "execution_count": 73,
   "id": "10e3881a-4bfe-440c-902c-acd459ebb242",
   "metadata": {},
   "outputs": [
    {
     "data": {
      "text/html": [
       "<div>\n",
       "<style scoped>\n",
       "    .dataframe tbody tr th:only-of-type {\n",
       "        vertical-align: middle;\n",
       "    }\n",
       "\n",
       "    .dataframe tbody tr th {\n",
       "        vertical-align: top;\n",
       "    }\n",
       "\n",
       "    .dataframe thead th {\n",
       "        text-align: right;\n",
       "    }\n",
       "</style>\n",
       "<table border=\"1\" class=\"dataframe\">\n",
       "  <thead>\n",
       "    <tr style=\"text-align: right;\">\n",
       "      <th></th>\n",
       "      <th>amount</th>\n",
       "      <th>amountfinancedByXepelin</th>\n",
       "      <th>PayerId_1</th>\n",
       "      <th>PayerId_2</th>\n",
       "      <th>PayerId_3</th>\n",
       "      <th>PayerId_4</th>\n",
       "      <th>PayerId_5</th>\n",
       "      <th>PayerId_6</th>\n",
       "      <th>PayerId_7</th>\n",
       "      <th>PayerId_8</th>\n",
       "      <th>...</th>\n",
       "      <th>status_PROCESSING</th>\n",
       "      <th>date_-1</th>\n",
       "      <th>date_01-2022</th>\n",
       "      <th>date_02-2022</th>\n",
       "      <th>date_03-2022</th>\n",
       "      <th>date_04-2022</th>\n",
       "      <th>date_05-2022</th>\n",
       "      <th>date_10-2021</th>\n",
       "      <th>date_11-2021</th>\n",
       "      <th>date_12-2021</th>\n",
       "    </tr>\n",
       "  </thead>\n",
       "  <tbody>\n",
       "    <tr>\n",
       "      <th>0</th>\n",
       "      <td>1490.46</td>\n",
       "      <td>0.00</td>\n",
       "      <td>0</td>\n",
       "      <td>0</td>\n",
       "      <td>0</td>\n",
       "      <td>0</td>\n",
       "      <td>0</td>\n",
       "      <td>0</td>\n",
       "      <td>0</td>\n",
       "      <td>0</td>\n",
       "      <td>...</td>\n",
       "      <td>0</td>\n",
       "      <td>0</td>\n",
       "      <td>0</td>\n",
       "      <td>0</td>\n",
       "      <td>0</td>\n",
       "      <td>1</td>\n",
       "      <td>0</td>\n",
       "      <td>0</td>\n",
       "      <td>0</td>\n",
       "      <td>0</td>\n",
       "    </tr>\n",
       "    <tr>\n",
       "      <th>1</th>\n",
       "      <td>6418.28</td>\n",
       "      <td>624.48</td>\n",
       "      <td>0</td>\n",
       "      <td>0</td>\n",
       "      <td>0</td>\n",
       "      <td>0</td>\n",
       "      <td>0</td>\n",
       "      <td>0</td>\n",
       "      <td>0</td>\n",
       "      <td>0</td>\n",
       "      <td>...</td>\n",
       "      <td>0</td>\n",
       "      <td>0</td>\n",
       "      <td>0</td>\n",
       "      <td>0</td>\n",
       "      <td>0</td>\n",
       "      <td>0</td>\n",
       "      <td>0</td>\n",
       "      <td>0</td>\n",
       "      <td>1</td>\n",
       "      <td>0</td>\n",
       "    </tr>\n",
       "    <tr>\n",
       "      <th>2</th>\n",
       "      <td>27979.20</td>\n",
       "      <td>10520.15</td>\n",
       "      <td>0</td>\n",
       "      <td>0</td>\n",
       "      <td>0</td>\n",
       "      <td>0</td>\n",
       "      <td>0</td>\n",
       "      <td>0</td>\n",
       "      <td>0</td>\n",
       "      <td>0</td>\n",
       "      <td>...</td>\n",
       "      <td>0</td>\n",
       "      <td>0</td>\n",
       "      <td>0</td>\n",
       "      <td>0</td>\n",
       "      <td>0</td>\n",
       "      <td>0</td>\n",
       "      <td>0</td>\n",
       "      <td>1</td>\n",
       "      <td>0</td>\n",
       "      <td>0</td>\n",
       "    </tr>\n",
       "    <tr>\n",
       "      <th>3</th>\n",
       "      <td>183070.77</td>\n",
       "      <td>79421.63</td>\n",
       "      <td>0</td>\n",
       "      <td>0</td>\n",
       "      <td>0</td>\n",
       "      <td>0</td>\n",
       "      <td>0</td>\n",
       "      <td>0</td>\n",
       "      <td>0</td>\n",
       "      <td>0</td>\n",
       "      <td>...</td>\n",
       "      <td>0</td>\n",
       "      <td>0</td>\n",
       "      <td>0</td>\n",
       "      <td>0</td>\n",
       "      <td>0</td>\n",
       "      <td>0</td>\n",
       "      <td>0</td>\n",
       "      <td>0</td>\n",
       "      <td>1</td>\n",
       "      <td>0</td>\n",
       "    </tr>\n",
       "    <tr>\n",
       "      <th>4</th>\n",
       "      <td>20532.00</td>\n",
       "      <td>20532.00</td>\n",
       "      <td>0</td>\n",
       "      <td>0</td>\n",
       "      <td>0</td>\n",
       "      <td>0</td>\n",
       "      <td>0</td>\n",
       "      <td>0</td>\n",
       "      <td>0</td>\n",
       "      <td>0</td>\n",
       "      <td>...</td>\n",
       "      <td>0</td>\n",
       "      <td>0</td>\n",
       "      <td>0</td>\n",
       "      <td>0</td>\n",
       "      <td>1</td>\n",
       "      <td>0</td>\n",
       "      <td>0</td>\n",
       "      <td>0</td>\n",
       "      <td>0</td>\n",
       "      <td>0</td>\n",
       "    </tr>\n",
       "  </tbody>\n",
       "</table>\n",
       "<p>5 rows × 291 columns</p>\n",
       "</div>"
      ],
      "text/plain": [
       "      amount  amountfinancedByXepelin  PayerId_1  PayerId_2  PayerId_3  \\\n",
       "0    1490.46                     0.00          0          0          0   \n",
       "1    6418.28                   624.48          0          0          0   \n",
       "2   27979.20                 10520.15          0          0          0   \n",
       "3  183070.77                 79421.63          0          0          0   \n",
       "4   20532.00                 20532.00          0          0          0   \n",
       "\n",
       "   PayerId_4  PayerId_5  PayerId_6  PayerId_7  PayerId_8  ...  \\\n",
       "0          0          0          0          0          0  ...   \n",
       "1          0          0          0          0          0  ...   \n",
       "2          0          0          0          0          0  ...   \n",
       "3          0          0          0          0          0  ...   \n",
       "4          0          0          0          0          0  ...   \n",
       "\n",
       "   status_PROCESSING  date_-1  date_01-2022  date_02-2022  date_03-2022  \\\n",
       "0                  0        0             0             0             0   \n",
       "1                  0        0             0             0             0   \n",
       "2                  0        0             0             0             0   \n",
       "3                  0        0             0             0             0   \n",
       "4                  0        0             0             0             1   \n",
       "\n",
       "   date_04-2022  date_05-2022  date_10-2021  date_11-2021  date_12-2021  \n",
       "0             1             0             0             0             0  \n",
       "1             0             0             0             1             0  \n",
       "2             0             0             1             0             0  \n",
       "3             0             0             0             1             0  \n",
       "4             0             0             0             0             0  \n",
       "\n",
       "[5 rows x 291 columns]"
      ]
     },
     "execution_count": 73,
     "metadata": {},
     "output_type": "execute_result"
    }
   ],
   "source": [
    "data.head()"
   ]
  },
  {
   "cell_type": "code",
   "execution_count": 74,
   "id": "0f3740d7-954b-4b01-8695-b5ee923b8442",
   "metadata": {},
   "outputs": [
    {
     "data": {
      "text/plain": [
       "Index(['amount', 'amountfinancedByXepelin', 'PayerId_1', 'PayerId_2',\n",
       "       'PayerId_3', 'PayerId_4', 'PayerId_5', 'PayerId_6', 'PayerId_7',\n",
       "       'PayerId_8',\n",
       "       ...\n",
       "       'status_PROCESSING', 'date_-1', 'date_01-2022', 'date_02-2022',\n",
       "       'date_03-2022', 'date_04-2022', 'date_05-2022', 'date_10-2021',\n",
       "       'date_11-2021', 'date_12-2021'],\n",
       "      dtype='object', length=291)"
      ]
     },
     "execution_count": 74,
     "metadata": {},
     "output_type": "execute_result"
    }
   ],
   "source": [
    "data.columns"
   ]
  },
  {
   "cell_type": "code",
   "execution_count": 75,
   "id": "85416b5e-5060-47db-8d97-5fe534bd7d3b",
   "metadata": {},
   "outputs": [],
   "source": [
    "#!pip install xgboost"
   ]
  },
  {
   "cell_type": "code",
   "execution_count": 76,
   "id": "5ac485c1-7272-4eb9-8489-3c0ed1adf131",
   "metadata": {},
   "outputs": [],
   "source": [
    "from sklearn.model_selection import train_test_split\n",
    "from xgboost import XGBRegressor\n",
    "import xgboost as xgb"
   ]
  },
  {
   "cell_type": "markdown",
   "id": "86239ba1-412e-409a-b597-74c9c151dcba",
   "metadata": {},
   "source": [
    "### Seleccion de variables dep e ind "
   ]
  },
  {
   "cell_type": "code",
   "execution_count": 77,
   "id": "1e111a00-7ff1-4edf-a001-9b2c501e0b16",
   "metadata": {},
   "outputs": [],
   "source": [
    "X = data.drop('amountfinancedByXepelin', axis = 1)"
   ]
  },
  {
   "cell_type": "code",
   "execution_count": 78,
   "id": "1b60324c-8e75-4ce2-a431-c756c5b4499a",
   "metadata": {},
   "outputs": [],
   "source": [
    "y = data['amountfinancedByXepelin']"
   ]
  },
  {
   "cell_type": "markdown",
   "id": "d716342a-a611-4906-b2a6-ea653ae9ff60",
   "metadata": {},
   "source": [
    "##### Train - test split"
   ]
  },
  {
   "cell_type": "code",
   "execution_count": 79,
   "id": "db9a6c5c-72e9-4da8-bdb5-9e7a4e9f802a",
   "metadata": {},
   "outputs": [],
   "source": [
    "# se recomienda siempre usar un set de validacion antes de pasar a test, pero en este caso vamos a avanzar rapido de esta manera "
   ]
  },
  {
   "cell_type": "code",
   "execution_count": 80,
   "id": "eb49ca9e-1b65-42a5-a64f-b016b3e8b40f",
   "metadata": {},
   "outputs": [],
   "source": [
    "X_train, X_test, y_train, y_test = train_test_split(X, y, random_state = 1) #75 - #25 split (test_size= 0.25)"
   ]
  },
  {
   "cell_type": "code",
   "execution_count": 81,
   "id": "c023cf88-f7ea-4f86-ade8-5c61ef9a0212",
   "metadata": {},
   "outputs": [
    {
     "data": {
      "text/plain": [
       "((900, 290), (300, 290))"
      ]
     },
     "execution_count": 81,
     "metadata": {},
     "output_type": "execute_result"
    }
   ],
   "source": [
    "X_train.shape, X_test.shape"
   ]
  },
  {
   "cell_type": "markdown",
   "id": "b2b7d5ef-9492-4d79-a009-00f8293ec27c",
   "metadata": {},
   "source": [
    "### Model fit"
   ]
  },
  {
   "cell_type": "code",
   "execution_count": 82,
   "id": "58d645b0-fa3a-41cb-841b-4801887cb39d",
   "metadata": {},
   "outputs": [],
   "source": [
    "model = XGBRegressor()"
   ]
  },
  {
   "cell_type": "code",
   "execution_count": 83,
   "id": "3656131b-2687-4c15-b354-103256360918",
   "metadata": {},
   "outputs": [
    {
     "data": {
      "text/html": [
       "<style>#sk-container-id-1 {color: black;background-color: white;}#sk-container-id-1 pre{padding: 0;}#sk-container-id-1 div.sk-toggleable {background-color: white;}#sk-container-id-1 label.sk-toggleable__label {cursor: pointer;display: block;width: 100%;margin-bottom: 0;padding: 0.3em;box-sizing: border-box;text-align: center;}#sk-container-id-1 label.sk-toggleable__label-arrow:before {content: \"▸\";float: left;margin-right: 0.25em;color: #696969;}#sk-container-id-1 label.sk-toggleable__label-arrow:hover:before {color: black;}#sk-container-id-1 div.sk-estimator:hover label.sk-toggleable__label-arrow:before {color: black;}#sk-container-id-1 div.sk-toggleable__content {max-height: 0;max-width: 0;overflow: hidden;text-align: left;background-color: #f0f8ff;}#sk-container-id-1 div.sk-toggleable__content pre {margin: 0.2em;color: black;border-radius: 0.25em;background-color: #f0f8ff;}#sk-container-id-1 input.sk-toggleable__control:checked~div.sk-toggleable__content {max-height: 200px;max-width: 100%;overflow: auto;}#sk-container-id-1 input.sk-toggleable__control:checked~label.sk-toggleable__label-arrow:before {content: \"▾\";}#sk-container-id-1 div.sk-estimator input.sk-toggleable__control:checked~label.sk-toggleable__label {background-color: #d4ebff;}#sk-container-id-1 div.sk-label input.sk-toggleable__control:checked~label.sk-toggleable__label {background-color: #d4ebff;}#sk-container-id-1 input.sk-hidden--visually {border: 0;clip: rect(1px 1px 1px 1px);clip: rect(1px, 1px, 1px, 1px);height: 1px;margin: -1px;overflow: hidden;padding: 0;position: absolute;width: 1px;}#sk-container-id-1 div.sk-estimator {font-family: monospace;background-color: #f0f8ff;border: 1px dotted black;border-radius: 0.25em;box-sizing: border-box;margin-bottom: 0.5em;}#sk-container-id-1 div.sk-estimator:hover {background-color: #d4ebff;}#sk-container-id-1 div.sk-parallel-item::after {content: \"\";width: 100%;border-bottom: 1px solid gray;flex-grow: 1;}#sk-container-id-1 div.sk-label:hover label.sk-toggleable__label {background-color: #d4ebff;}#sk-container-id-1 div.sk-serial::before {content: \"\";position: absolute;border-left: 1px solid gray;box-sizing: border-box;top: 0;bottom: 0;left: 50%;z-index: 0;}#sk-container-id-1 div.sk-serial {display: flex;flex-direction: column;align-items: center;background-color: white;padding-right: 0.2em;padding-left: 0.2em;position: relative;}#sk-container-id-1 div.sk-item {position: relative;z-index: 1;}#sk-container-id-1 div.sk-parallel {display: flex;align-items: stretch;justify-content: center;background-color: white;position: relative;}#sk-container-id-1 div.sk-item::before, #sk-container-id-1 div.sk-parallel-item::before {content: \"\";position: absolute;border-left: 1px solid gray;box-sizing: border-box;top: 0;bottom: 0;left: 50%;z-index: -1;}#sk-container-id-1 div.sk-parallel-item {display: flex;flex-direction: column;z-index: 1;position: relative;background-color: white;}#sk-container-id-1 div.sk-parallel-item:first-child::after {align-self: flex-end;width: 50%;}#sk-container-id-1 div.sk-parallel-item:last-child::after {align-self: flex-start;width: 50%;}#sk-container-id-1 div.sk-parallel-item:only-child::after {width: 0;}#sk-container-id-1 div.sk-dashed-wrapped {border: 1px dashed gray;margin: 0 0.4em 0.5em 0.4em;box-sizing: border-box;padding-bottom: 0.4em;background-color: white;}#sk-container-id-1 div.sk-label label {font-family: monospace;font-weight: bold;display: inline-block;line-height: 1.2em;}#sk-container-id-1 div.sk-label-container {text-align: center;}#sk-container-id-1 div.sk-container {/* jupyter's `normalize.less` sets `[hidden] { display: none; }` but bootstrap.min.css set `[hidden] { display: none !important; }` so we also need the `!important` here to be able to override the default hidden behavior on the sphinx rendered scikit-learn.org. See: https://github.com/scikit-learn/scikit-learn/issues/21755 */display: inline-block !important;position: relative;}#sk-container-id-1 div.sk-text-repr-fallback {display: none;}</style><div id=\"sk-container-id-1\" class=\"sk-top-container\"><div class=\"sk-text-repr-fallback\"><pre>XGBRegressor(base_score=0.5, booster=&#x27;gbtree&#x27;, callbacks=None,\n",
       "             colsample_bylevel=1, colsample_bynode=1, colsample_bytree=1,\n",
       "             early_stopping_rounds=None, enable_categorical=False,\n",
       "             eval_metric=None, gamma=0, gpu_id=-1, grow_policy=&#x27;depthwise&#x27;,\n",
       "             importance_type=None, interaction_constraints=&#x27;&#x27;,\n",
       "             learning_rate=0.300000012, max_bin=256, max_cat_to_onehot=4,\n",
       "             max_delta_step=0, max_depth=6, max_leaves=0, min_child_weight=1,\n",
       "             missing=nan, monotone_constraints=&#x27;()&#x27;, n_estimators=100, n_jobs=0,\n",
       "             num_parallel_tree=1, predictor=&#x27;auto&#x27;, random_state=0, reg_alpha=0,\n",
       "             reg_lambda=1, ...)</pre><b>In a Jupyter environment, please rerun this cell to show the HTML representation or trust the notebook. <br />On GitHub, the HTML representation is unable to render, please try loading this page with nbviewer.org.</b></div><div class=\"sk-container\" hidden><div class=\"sk-item\"><div class=\"sk-estimator sk-toggleable\"><input class=\"sk-toggleable__control sk-hidden--visually\" id=\"sk-estimator-id-1\" type=\"checkbox\" checked><label for=\"sk-estimator-id-1\" class=\"sk-toggleable__label sk-toggleable__label-arrow\">XGBRegressor</label><div class=\"sk-toggleable__content\"><pre>XGBRegressor(base_score=0.5, booster=&#x27;gbtree&#x27;, callbacks=None,\n",
       "             colsample_bylevel=1, colsample_bynode=1, colsample_bytree=1,\n",
       "             early_stopping_rounds=None, enable_categorical=False,\n",
       "             eval_metric=None, gamma=0, gpu_id=-1, grow_policy=&#x27;depthwise&#x27;,\n",
       "             importance_type=None, interaction_constraints=&#x27;&#x27;,\n",
       "             learning_rate=0.300000012, max_bin=256, max_cat_to_onehot=4,\n",
       "             max_delta_step=0, max_depth=6, max_leaves=0, min_child_weight=1,\n",
       "             missing=nan, monotone_constraints=&#x27;()&#x27;, n_estimators=100, n_jobs=0,\n",
       "             num_parallel_tree=1, predictor=&#x27;auto&#x27;, random_state=0, reg_alpha=0,\n",
       "             reg_lambda=1, ...)</pre></div></div></div></div></div>"
      ],
      "text/plain": [
       "XGBRegressor(base_score=0.5, booster='gbtree', callbacks=None,\n",
       "             colsample_bylevel=1, colsample_bynode=1, colsample_bytree=1,\n",
       "             early_stopping_rounds=None, enable_categorical=False,\n",
       "             eval_metric=None, gamma=0, gpu_id=-1, grow_policy='depthwise',\n",
       "             importance_type=None, interaction_constraints='',\n",
       "             learning_rate=0.300000012, max_bin=256, max_cat_to_onehot=4,\n",
       "             max_delta_step=0, max_depth=6, max_leaves=0, min_child_weight=1,\n",
       "             missing=nan, monotone_constraints='()', n_estimators=100, n_jobs=0,\n",
       "             num_parallel_tree=1, predictor='auto', random_state=0, reg_alpha=0,\n",
       "             reg_lambda=1, ...)"
      ]
     },
     "execution_count": 83,
     "metadata": {},
     "output_type": "execute_result"
    }
   ],
   "source": [
    "model.fit(X_train, y_train)"
   ]
  },
  {
   "cell_type": "code",
   "execution_count": 84,
   "id": "bdb2797a-ca99-4808-ab08-be00a128dfa9",
   "metadata": {},
   "outputs": [
    {
     "data": {
      "text/plain": [
       "<AxesSubplot:title={'center':'Feature importance'}, xlabel='F score', ylabel='Features'>"
      ]
     },
     "execution_count": 84,
     "metadata": {},
     "output_type": "execute_result"
    },
    {
     "data": {
      "image/png": "[encoded data removed]",
      "text/plain": [
       "<Figure size 432x288 with 1 Axes>"
      ]
     },
     "metadata": {
      "needs_background": "light"
     },
     "output_type": "display_data"
    }
   ],
   "source": [
    "xgb.plot_importance(model, max_num_features=20, ax= plt.gca())"
   ]
  },
  {
   "cell_type": "code",
   "execution_count": 85,
   "id": "e3ed8f37-a43c-4c29-b117-69a268c68190",
   "metadata": {},
   "outputs": [
    {
     "data": {
      "image/png": "[encoded data removed]",
      "text/plain": [
       "<Figure size 432x288 with 1 Axes>"
      ]
     },
     "metadata": {
      "needs_background": "light"
     },
     "output_type": "display_data"
    }
   ],
   "source": [
    "plt.scatter(data['amount'], data['amountfinancedByXepelin']) \n",
    "plt.show()"
   ]
  },
  {
   "cell_type": "code",
   "execution_count": 86,
   "id": "8191afc3-7fd7-4b6e-8036-6d918c8a2481",
   "metadata": {},
   "outputs": [],
   "source": [
    "# Observamos que existe una relacion fuerte entre la variable amount y la variable que queremos predecir que sera nuestro financiamiento. \n",
    "# El resto de las variables parecen no presentar una relacion fuerte con nuestra variable Y, como lo hace la variable amount. Necesitariamos incorporar nuevas variables con mayor importancia para que nuestro modelo no prediga solo en base al amount. \n",
    "# Por ejemplo, estas nuevas variables podrian estar relacionadas con el comportamiento crediticio de cada empresa que hara el pago, a traves de los años."
   ]
  },
  {
   "cell_type": "markdown",
   "id": "74000a09-07cf-452e-ae17-b05bb0966e0a",
   "metadata": {},
   "source": [
    "### Predicting new values"
   ]
  },
  {
   "cell_type": "code",
   "execution_count": 87,
   "id": "352c6b1a-e5ca-47da-ab72-0f56d82e6c6f",
   "metadata": {},
   "outputs": [],
   "source": [
    "predictions = model.predict(X_test)"
   ]
  },
  {
   "cell_type": "code",
   "execution_count": 88,
   "id": "8436174d-f8c2-48ba-b7c1-a2924533e305",
   "metadata": {},
   "outputs": [
    {
     "data": {
      "text/plain": [
       "array([-2.9351697e+00,  6.7473555e+00,  1.0000477e+03,  5.3664258e+04,\n",
       "        7.0981650e+00,  6.7473555e+00,  7.8494940e+02,  6.7473555e+00,\n",
       "        2.5491584e+03], dtype=float32)"
      ]
     },
     "execution_count": 88,
     "metadata": {},
     "output_type": "execute_result"
    }
   ],
   "source": [
    "predictions[1:10]"
   ]
  },
  {
   "cell_type": "code",
   "execution_count": 89,
   "id": "f240db75-5fd4-4080-b5ed-ddc3a80b66f7",
   "metadata": {},
   "outputs": [
    {
     "data": {
      "text/plain": [
       "amount          1490.46\n",
       "PayerId_1          0.00\n",
       "PayerId_2          0.00\n",
       "PayerId_3          0.00\n",
       "PayerId_4          0.00\n",
       "                 ...   \n",
       "date_04-2022       0.00\n",
       "date_05-2022       1.00\n",
       "date_10-2021       0.00\n",
       "date_11-2021       0.00\n",
       "date_12-2021       0.00\n",
       "Name: 683, Length: 290, dtype: float64"
      ]
     },
     "execution_count": 89,
     "metadata": {},
     "output_type": "execute_result"
    }
   ],
   "source": [
    "X_test.iloc[1]"
   ]
  },
  {
   "cell_type": "code",
   "execution_count": 90,
   "id": "6b5c73d8-d2ca-4781-96dc-614ed8755dfb",
   "metadata": {},
   "outputs": [
    {
     "data": {
      "text/plain": [
       "0.0"
      ]
     },
     "execution_count": 90,
     "metadata": {},
     "output_type": "execute_result"
    }
   ],
   "source": [
    "y_test.iloc[1]"
   ]
  },
  {
   "cell_type": "markdown",
   "id": "360bfb63-0d7e-40a6-8a9d-99121f7ddbe2",
   "metadata": {},
   "source": [
    "### Model Error"
   ]
  },
  {
   "cell_type": "code",
   "execution_count": 91,
   "id": "e6bcf5a9-26c9-4987-89aa-81bd46c02d7b",
   "metadata": {},
   "outputs": [],
   "source": [
    "### Training MSE"
   ]
  },
  {
   "cell_type": "code",
   "execution_count": 92,
   "id": "e2d76ab4-822c-41eb-b910-b8e05566a64d",
   "metadata": {},
   "outputs": [],
   "source": [
    "from sklearn.metrics import mean_squared_error, r2_score"
   ]
  },
  {
   "cell_type": "code",
   "execution_count": 93,
   "id": "5c5b31c4-3f43-49f3-82c0-bb2c512bc5a8",
   "metadata": {},
   "outputs": [],
   "source": [
    "pred_train = model.predict(X_train)"
   ]
  },
  {
   "cell_type": "code",
   "execution_count": 94,
   "id": "2b3b6ca4-d88c-4f38-9f9d-5bdc4da6394c",
   "metadata": {},
   "outputs": [
    {
     "name": "stdout",
     "output_type": "stream",
     "text": [
      "0.9998933790269489\n"
     ]
    }
   ],
   "source": [
    "print(r2_score(y_train, pred_train))"
   ]
  },
  {
   "cell_type": "code",
   "execution_count": 95,
   "id": "27600b96-2bcb-4aca-a7c4-5a16e53b3d2e",
   "metadata": {},
   "outputs": [
    {
     "name": "stdout",
     "output_type": "stream",
     "text": [
      "2104892.2749763243\n"
     ]
    }
   ],
   "source": [
    "print(mean_squared_error(y_train, pred_train))"
   ]
  },
  {
   "cell_type": "code",
   "execution_count": 96,
   "id": "ed0effe9-9afa-4201-baeb-a57e1569015d",
   "metadata": {},
   "outputs": [],
   "source": [
    "### Testing MSE"
   ]
  },
  {
   "cell_type": "code",
   "execution_count": 97,
   "id": "fdf21cdb-0e3e-4e3f-b058-1e50d87f376f",
   "metadata": {},
   "outputs": [
    {
     "data": {
      "text/plain": [
       "-2.7084882138170174"
      ]
     },
     "execution_count": 97,
     "metadata": {},
     "output_type": "execute_result"
    }
   ],
   "source": [
    "model.score(X_test, y_test)"
   ]
  },
  {
   "cell_type": "code",
   "execution_count": 98,
   "id": "df7bf0f7-0a46-4c1c-89a1-3256398bcbee",
   "metadata": {},
   "outputs": [
    {
     "name": "stdout",
     "output_type": "stream",
     "text": [
      "-2.7084882138170174\n"
     ]
    }
   ],
   "source": [
    "print(r2_score(y_test, predictions))"
   ]
  },
  {
   "cell_type": "code",
   "execution_count": 99,
   "id": "1deef26b-f5d2-49f3-b757-aa0b99d82ea8",
   "metadata": {},
   "outputs": [
    {
     "name": "stdout",
     "output_type": "stream",
     "text": [
      "3893046641.084932\n"
     ]
    }
   ],
   "source": [
    "print(mean_squared_error(y_test, predictions))"
   ]
  },
  {
   "cell_type": "markdown",
   "id": "00b5c612-87b3-4080-bdf1-ade70f9c4cb9",
   "metadata": {},
   "source": [
    "### Conclusiones"
   ]
  },
  {
   "cell_type": "code",
   "execution_count": 100,
   "id": "53eaf550-e9bd-415a-ba4b-6bd7d225b02a",
   "metadata": {},
   "outputs": [],
   "source": [
    "# Este modelo no funciona bien. De entrada vemos que tenemos una sola variable en el conjunto de train que esta prediciendo nuestra variable Y. Necesitamos mas variables utiles para predecir. Y tambien mas datos. Podemos ver que el R2, el cual nos dice cuanta varianza explica el modelo, cae en nuestro set de test. \n",
    "# Y por otro lado esta overfiteando nuestro modelo de una manera increible, cuando revisamos el mean squared error. \n",
    "# Por lo tanto este dataset y esta informacion con la que contamos no nos esta permitiendo estimar junio en 2022. \n",
    "# Ante un problema de regresion, siempre es bueno probar modelos de regresión para ir teniendo una imagen de que es lo que nos falta. \n",
    "# Vamos a avanzar con nuestra idea principal, que es la serie temporal. \n",
    "# De todas maneras dejamos anotado como se podria mejorar este modelo.\n"
   ]
  },
  {
   "cell_type": "code",
   "execution_count": 101,
   "id": "d29ccf7d-5bef-40a9-84d6-92bc16f26b7c",
   "metadata": {},
   "outputs": [],
   "source": [
    "# Posibles mejoras:\n",
    "    #aumento de variables significativas (ej comportamiento crediticio de empresas)\n",
    "    #agregar dia de la semana en la variable de tiempo\n",
    "    #finetunning de hiperparametros (ej maxima profundidad del XG boost, learning rate mayor a 30, etc)\n",
    "    #aumentar cantidad de rows de datos\n",
    "    #cambiar train-test size\n",
    "    #correr una cross validation\n",
    "    #gestión de manera externa de estacionalidad (creando variables de año, mes, agrupando en ventanas temporales, teniendo cuidado en respetar la temporalidad en la división de train y test, etc)"
   ]
  },
  {
   "cell_type": "markdown",
   "id": "19231f6a-289c-4870-a15a-66369060cf2a",
   "metadata": {},
   "source": [
    "## Serie temporal"
   ]
  },
  {
   "cell_type": "code",
   "execution_count": 102,
   "id": "6a38be47-d3b6-4bd9-91bd-a836c8c66a42",
   "metadata": {},
   "outputs": [],
   "source": [
    "# La serie temporal es util cuando tenemos datos que se muestrean en función de una dimensión basada en el tiempo, como días, meses, años, etc. \n",
    "# En este caso nuestros datos no son lineales, y tenemos dos variables dependientes, la fecha y el amount."
   ]
  },
  {
   "cell_type": "code",
   "execution_count": 103,
   "id": "33547f4e-91fb-4cb7-a784-1ca5818d9c4c",
   "metadata": {},
   "outputs": [],
   "source": [
    "datos = pd.read_csv('data_test.csv')"
   ]
  },
  {
   "cell_type": "code",
   "execution_count": 104,
   "id": "74cc5c73-d080-4899-8a01-7f468a86c403",
   "metadata": {},
   "outputs": [],
   "source": [
    "datos = datos.dropna(subset=['paidAt'])"
   ]
  },
  {
   "cell_type": "code",
   "execution_count": 105,
   "id": "9b85b6ea-bcc0-40c5-a5a6-a8172179ad40",
   "metadata": {},
   "outputs": [],
   "source": [
    "datos.rename(columns = {'paidAt':'ds', 'amountfinancedByXepelin':'y'}, inplace = True)"
   ]
  },
  {
   "cell_type": "code",
   "execution_count": 106,
   "id": "40135317-fa21-4f91-8d56-6f3952c4866b",
   "metadata": {},
   "outputs": [],
   "source": [
    "df = datos.drop(columns=['PayerId', 'ReceiverId', 'invoiceId', 'status', 'amount'])"
   ]
  },
  {
   "cell_type": "code",
   "execution_count": 107,
   "id": "17887c7e-fcd3-4476-9cc3-4a946fa2c33d",
   "metadata": {},
   "outputs": [],
   "source": [
    "df = df.groupby(['ds'])['y'].sum().reset_index()"
   ]
  },
  {
   "cell_type": "code",
   "execution_count": 108,
   "id": "e84a8b96-5808-4a8b-92c9-c235359b6e38",
   "metadata": {},
   "outputs": [],
   "source": [
    "df['ds'] = pd.to_datetime(df['ds'])"
   ]
  },
  {
   "cell_type": "code",
   "execution_count": 109,
   "id": "b6b6379f-ac11-4581-bd2b-e6ee6d143b55",
   "metadata": {},
   "outputs": [],
   "source": [
    "df['ds'] = df['ds'].dt.strftime('%Y-%m-%d')"
   ]
  },
  {
   "cell_type": "code",
   "execution_count": 110,
   "id": "c32ef3b9-70ac-47c7-912b-e513fc7d7e90",
   "metadata": {},
   "outputs": [],
   "source": [
    "df = df.set_index('ds')"
   ]
  },
  {
   "cell_type": "code",
   "execution_count": 111,
   "id": "394156b0-73a0-431c-8ee8-ffa02f6568f1",
   "metadata": {},
   "outputs": [],
   "source": [
    "period = 30"
   ]
  },
  {
   "cell_type": "code",
   "execution_count": 112,
   "id": "8cab7906-9f74-443d-b898-970230124b70",
   "metadata": {},
   "outputs": [
    {
     "ename": "NameError",
     "evalue": "name 'seasonal_decompose' is not defined",
     "output_type": "error",
     "traceback": [
      "\u001b[0;31m---------------------------------------------------------------------------\u001b[0m",
      "\u001b[0;31mNameError\u001b[0m                                 Traceback (most recent call last)",
      "\u001b[0;32m<ipython-input-112-4389cf17ced2>\u001b[0m in \u001b[0;36m<module>\u001b[0;34m\u001b[0m\n\u001b[0;32m----> 1\u001b[0;31m \u001b[0mresult\u001b[0m \u001b[0;34m=\u001b[0m \u001b[0mseasonal_decompose\u001b[0m\u001b[0;34m(\u001b[0m\u001b[0mdf\u001b[0m\u001b[0;34m,\u001b[0m \u001b[0mmodel\u001b[0m\u001b[0;34m=\u001b[0m\u001b[0;34m'additive'\u001b[0m\u001b[0;34m,\u001b[0m \u001b[0mperiod\u001b[0m\u001b[0;34m=\u001b[0m\u001b[0;36m30\u001b[0m\u001b[0;34m)\u001b[0m\u001b[0;34m\u001b[0m\u001b[0;34m\u001b[0m\u001b[0m\n\u001b[0m\u001b[1;32m      2\u001b[0m \u001b[0;34m\u001b[0m\u001b[0m\n\u001b[1;32m      3\u001b[0m \u001b[0;32mfrom\u001b[0m \u001b[0mpylab\u001b[0m \u001b[0;32mimport\u001b[0m \u001b[0mrcParams\u001b[0m\u001b[0;34m\u001b[0m\u001b[0;34m\u001b[0m\u001b[0m\n\u001b[1;32m      4\u001b[0m \u001b[0mrcParams\u001b[0m\u001b[0;34m[\u001b[0m\u001b[0;34m'figure.figsize'\u001b[0m\u001b[0;34m]\u001b[0m \u001b[0;34m=\u001b[0m \u001b[0;36m20\u001b[0m\u001b[0;34m,\u001b[0m\u001b[0;36m8\u001b[0m\u001b[0;34m\u001b[0m\u001b[0;34m\u001b[0m\u001b[0m\n\u001b[1;32m      5\u001b[0m \u001b[0mresult\u001b[0m\u001b[0;34m.\u001b[0m\u001b[0mplot\u001b[0m\u001b[0;34m(\u001b[0m\u001b[0;34m)\u001b[0m\u001b[0;34m;\u001b[0m\u001b[0;34m\u001b[0m\u001b[0;34m\u001b[0m\u001b[0m\n",
      "\u001b[0;31mNameError\u001b[0m: name 'seasonal_decompose' is not defined"
     ]
    }
   ],
   "source": [
    "result = seasonal_decompose(df, model='additive', period=30)\n",
    "\n",
    "from pylab import rcParams\n",
    "rcParams['figure.figsize'] = 20,8\n",
    "result.plot();"
   ]
  },
  {
   "cell_type": "code",
   "execution_count": null,
   "id": "2cacdc6f-2d0d-4214-8c7d-2b5f64d43bd9",
   "metadata": {},
   "outputs": [],
   "source": [
    "from statsmodels.graphics.tsaplots import plot_pacf\n",
    "plot_pacf(df)"
   ]
  },
  {
   "cell_type": "code",
   "execution_count": null,
   "id": "8aaff011-9faf-4b9f-b966-c8fefb81a8a3",
   "metadata": {},
   "outputs": [],
   "source": [
    "from statsmodels.tsa.stattools import adfuller"
   ]
  },
  {
   "cell_type": "code",
   "execution_count": null,
   "id": "2ead2a18-8067-469f-907b-7379978dc1ab",
   "metadata": {},
   "outputs": [],
   "source": [
    "\n",
    "adf, pval, usedlag, nobs, crit_vals, icbest =  adfuller(df.values)\n",
    "print('ADF test statistic:', adf)\n",
    "print('ADF p-values:', pval)\n",
    "print('ADF number of lags used:', usedlag)\n",
    "print('ADF number of observations:', nobs)\n",
    "print('ADF critical values:', crit_vals)\n",
    "print('ADF best information criterion:', icbest)"
   ]
  },
  {
   "cell_type": "code",
   "execution_count": null,
   "id": "6896d5b9-803c-4814-8a79-4648299b4590",
   "metadata": {},
   "outputs": [],
   "source": [
    "prev_value = df.shift()\n",
    "differenced = df - prev_value\n",
    "differenced.plot()"
   ]
  },
  {
   "cell_type": "markdown",
   "id": "e11ae262-b1c4-445d-9edd-4fa4ed9355ae",
   "metadata": {},
   "source": [
    "#### Prophet "
   ]
  },
  {
   "cell_type": "code",
   "execution_count": null,
   "id": "da3723af-cd62-4f91-b348-dd659b8906f6",
   "metadata": {},
   "outputs": [],
   "source": [
    "# funciona mejor con series con fuerte estacionalidad, pero es bueno con datos faltantes "
   ]
  },
  {
   "cell_type": "code",
   "execution_count": null,
   "id": "2fd28652-b62f-43c0-bfd1-3cea55062c56",
   "metadata": {},
   "outputs": [],
   "source": [
    "from multi_prophet import MultiProphet"
   ]
  },
  {
   "cell_type": "code",
   "execution_count": null,
   "id": "b6c995f7-2284-4f99-b55e-4ef7d1d6caaf",
   "metadata": {},
   "outputs": [],
   "source": [
    "df = pd.read_csv('data_test.csv')"
   ]
  },
  {
   "cell_type": "code",
   "execution_count": null,
   "id": "05ae2dcb-af14-485b-bafe-2cce3fe2c04b",
   "metadata": {},
   "outputs": [],
   "source": [
    "df.shape"
   ]
  },
  {
   "cell_type": "code",
   "execution_count": null,
   "id": "81df4c90-3c6b-4c86-acf9-f423c89181dd",
   "metadata": {},
   "outputs": [],
   "source": [
    "df.isnull().value_counts()"
   ]
  },
  {
   "cell_type": "code",
   "execution_count": null,
   "id": "ae6c397b-6e2f-4c20-8118-4e36f89d7013",
   "metadata": {},
   "outputs": [],
   "source": [
    "df = df.dropna(subset=['paidAt'])"
   ]
  },
  {
   "cell_type": "code",
   "execution_count": null,
   "id": "cd5bb775-3bb7-413f-9a97-baa9574095a7",
   "metadata": {},
   "outputs": [],
   "source": [
    "df.shape"
   ]
  },
  {
   "cell_type": "code",
   "execution_count": null,
   "id": "84d3b7a3-fb04-4088-ab1c-4b7a4d0e6e21",
   "metadata": {},
   "outputs": [],
   "source": [
    "df.head()"
   ]
  },
  {
   "cell_type": "code",
   "execution_count": null,
   "id": "cfe5e765-3ace-4345-9b28-44b9b28a12f1",
   "metadata": {},
   "outputs": [],
   "source": [
    "df = df.drop(columns=['PayerId', 'ReceiverId', 'invoiceId', 'status'])"
   ]
  },
  {
   "cell_type": "code",
   "execution_count": null,
   "id": "dca48a40-17ef-47db-ae0d-835dfc5ac74b",
   "metadata": {},
   "outputs": [],
   "source": [
    "df.rename(columns = {'paidAt':'ds', 'amount':'y1', 'amountfinancedByXepelin':'y'}, inplace = True)"
   ]
  },
  {
   "cell_type": "code",
   "execution_count": null,
   "id": "e98d2cb1-dfb7-4c3b-82d8-de0d2571afaf",
   "metadata": {},
   "outputs": [],
   "source": [
    "df.head()"
   ]
  },
  {
   "cell_type": "markdown",
   "id": "f8d08459-ddde-4a52-86b0-70314558e1ab",
   "metadata": {},
   "source": [
    "### Junio del 2022"
   ]
  },
  {
   "cell_type": "code",
   "execution_count": null,
   "id": "7e2671cf-85c0-418c-bd0e-fb0d3d531a03",
   "metadata": {},
   "outputs": [],
   "source": [
    "m = MultiProphet(columns=[\"y\", \"y1\"])\n",
    "m.fit(df)"
   ]
  },
  {
   "cell_type": "code",
   "execution_count": null,
   "id": "548f87d8-24e7-4d49-8e24-e6e6ee8ed223",
   "metadata": {},
   "outputs": [],
   "source": [
    "future_df = m.make_future_dataframe(periods=30, freq='d')\n",
    "forecast = m.predict(future_df)"
   ]
  },
  {
   "cell_type": "code",
   "execution_count": null,
   "id": "9d610697-97fb-4889-97fa-644600ac865a",
   "metadata": {},
   "outputs": [],
   "source": [
    "forecast[\"y\"][['ds', 'yhat', 'yhat_lower', 'yhat_upper']].tail()\n"
   ]
  },
  {
   "cell_type": "code",
   "execution_count": null,
   "id": "b5d8ed04-39aa-4ae1-b6d0-9629da461558",
   "metadata": {},
   "outputs": [],
   "source": [
    "forecast[\"y1\"][['ds', 'yhat', 'yhat_lower', 'yhat_upper']].tail()"
   ]
  },
  {
   "cell_type": "code",
   "execution_count": null,
   "id": "355e3c93-a475-4c25-94b6-d50dec7cb2bc",
   "metadata": {},
   "outputs": [],
   "source": [
    "financed = forecast[\"y\"]"
   ]
  },
  {
   "cell_type": "code",
   "execution_count": null,
   "id": "1ecba455-6a26-4808-9a58-66c8ad863089",
   "metadata": {},
   "outputs": [],
   "source": [
    "financed.head()"
   ]
  },
  {
   "cell_type": "code",
   "execution_count": null,
   "id": "abbeaefa-f8b4-4101-b214-ca07c3276ec8",
   "metadata": {},
   "outputs": [],
   "source": [
    "amount = forecast[\"y1\"]"
   ]
  },
  {
   "cell_type": "code",
   "execution_count": null,
   "id": "854ad058-a493-488c-b568-711a7860014c",
   "metadata": {},
   "outputs": [],
   "source": [
    "amount"
   ]
  },
  {
   "cell_type": "markdown",
   "id": "3f09f942-55b0-4022-a8bd-dd30bf0eb80d",
   "metadata": {},
   "source": [
    "#### Ploteando resultados"
   ]
  },
  {
   "cell_type": "code",
   "execution_count": null,
   "id": "8aa13b0f-8d54-4e24-9b69-b5f5ed7dcbd2",
   "metadata": {},
   "outputs": [],
   "source": [
    "from fbprophet.plot import add_changepoints_to_plot"
   ]
  },
  {
   "cell_type": "code",
   "execution_count": null,
   "id": "b99f7bbb-5f48-4218-86e5-309affefa518",
   "metadata": {},
   "outputs": [],
   "source": [
    "import plotly.graph_objs as go"
   ]
  },
  {
   "cell_type": "code",
   "execution_count": null,
   "id": "39a3787d-d770-4276-8ae8-5b6d37e110d8",
   "metadata": {},
   "outputs": [],
   "source": [
    "m.plot_components(forecast) "
   ]
  },
  {
   "cell_type": "code",
   "execution_count": null,
   "id": "b945d90c-3b93-4752-8d6b-ad6fb2ed3908",
   "metadata": {},
   "outputs": [],
   "source": [
    "plot = m.plot(forecast)"
   ]
  },
  {
   "cell_type": "markdown",
   "id": "cfe4c908-f21a-4551-b710-805b09b6f323",
   "metadata": {},
   "source": [
    "## Resto del año 2022"
   ]
  },
  {
   "cell_type": "code",
   "execution_count": null,
   "id": "04b939da-9b86-4787-86c1-b5041fac6805",
   "metadata": {},
   "outputs": [],
   "source": [
    "future_df_2022 = m.make_future_dataframe(periods=210, freq='d')\n",
    "forecast_2022 = m.predict(future_df_2022)"
   ]
  },
  {
   "cell_type": "code",
   "execution_count": null,
   "id": "090bb101-5cd0-4116-bd1e-375db867bb44",
   "metadata": {},
   "outputs": [],
   "source": [
    "m.plot_components(forecast_2022) "
   ]
  },
  {
   "cell_type": "code",
   "execution_count": null,
   "id": "308d0194-6897-41de-b581-6beef224a29a",
   "metadata": {},
   "outputs": [],
   "source": [
    "plot = m.plot(forecast_2022)"
   ]
  },
  {
   "cell_type": "code",
   "execution_count": null,
   "id": "cfe2484e-6af6-4a31-9554-67a9b7f96036",
   "metadata": {},
   "outputs": [],
   "source": []
  },
  {
   "cell_type": "code",
   "execution_count": null,
   "id": "a92563aa-597f-4f2e-a3bc-9c25b189afdc",
   "metadata": {},
   "outputs": [],
   "source": []
  }
 ],
 "metadata": {
  "kernelspec": {
   "display_name": "Python 3",
   "language": "python",
   "name": "python3"
  },
  "language_info": {
   "codemirror_mode": {
    "name": "ipython",
    "version": 3
   },
   "file_extension": ".py",
   "mimetype": "text/x-python",
   "name": "python",
   "nbconvert_exporter": "python",
   "pygments_lexer": "ipython3",
   "version": "3.8.8"
  }
 },
 "nbformat": 4,
 "nbformat_minor": 5
}
